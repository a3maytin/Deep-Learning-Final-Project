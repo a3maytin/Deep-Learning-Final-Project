{
 "cells": [
  {
   "attachments": {},
   "cell_type": "markdown",
   "metadata": {
    "id": "Xm-bXZGKovaV"
   },
   "source": [
    "# 1. Virtual Repository"
   ]
  },
  {
   "cell_type": "code",
   "metadata": {
    "colab": {
     "base_uri": "https://localhost:8080/"
    },
    "executionInfo": {
     "elapsed": 3691,
     "status": "ok",
     "timestamp": 1688599472996,
     "user": {
      "displayName": "Joao Lucas Rodrigues Constantino",
      "userId": "10555694485099463605"
     },
     "user_tz": 180
    },
    "id": "IEUChi6foLBv",
    "outputId": "6f8d39fb-44ed-4fd9-be25-1a618cebf491",
    "ExecuteTime": {
     "end_time": "2024-04-28T16:33:36.896010Z",
     "start_time": "2024-04-28T16:33:36.859901Z"
    }
   },
   "source": [
    "# Setting up the virtual directory\n",
    "from google.colab import drive\n",
    "drive.mount('/content/drive')"
   ],
   "outputs": [
    {
     "ename": "ModuleNotFoundError",
     "evalue": "No module named 'google.colab'",
     "output_type": "error",
     "traceback": [
      "\u001B[0;31m---------------------------------------------------------------------------\u001B[0m",
      "\u001B[0;31mModuleNotFoundError\u001B[0m                       Traceback (most recent call last)",
      "Cell \u001B[0;32mIn[6], line 2\u001B[0m\n\u001B[1;32m      1\u001B[0m \u001B[38;5;66;03m# Setting up the virtual directory\u001B[39;00m\n\u001B[0;32m----> 2\u001B[0m \u001B[38;5;28;01mfrom\u001B[39;00m \u001B[38;5;21;01mgoogle\u001B[39;00m\u001B[38;5;21;01m.\u001B[39;00m\u001B[38;5;21;01mcolab\u001B[39;00m \u001B[38;5;28;01mimport\u001B[39;00m drive\n\u001B[1;32m      3\u001B[0m drive\u001B[38;5;241m.\u001B[39mmount(\u001B[38;5;124m'\u001B[39m\u001B[38;5;124m/content/drive\u001B[39m\u001B[38;5;124m'\u001B[39m)\n",
      "\u001B[0;31mModuleNotFoundError\u001B[0m: No module named 'google.colab'"
     ]
    }
   ],
   "execution_count": 6
  },
  {
   "cell_type": "code",
   "metadata": {
    "executionInfo": {
     "elapsed": 5,
     "status": "ok",
     "timestamp": 1688599472996,
     "user": {
      "displayName": "Joao Lucas Rodrigues Constantino",
      "userId": "10555694485099463605"
     },
     "user_tz": 180
    },
    "id": "axLq1ZNgwOjw",
    "ExecuteTime": {
     "end_time": "2024-04-28T16:33:36.961142Z",
     "start_time": "2024-04-28T16:33:36.959152Z"
    }
   },
   "source": [
    "# Root directory\n",
    "# YOU CHANGED THIS\n",
    "ROOT_DIR = \"\"\n",
    "\n",
    "# Utility directories\n",
    "MODELS_DIR  = ROOT_DIR + \"models/\"\n",
    "BACKUPS_DIR = ROOT_DIR + \"backups/\"\n",
    "DATA_DIR    = ROOT_DIR + \"data/\""
   ],
   "outputs": [],
   "execution_count": 7
  },
  {
   "attachments": {},
   "cell_type": "markdown",
   "metadata": {
    "id": "UBqEAGaTvl8q"
   },
   "source": [
    "# 2. Dependencies"
   ]
  },
  {
   "cell_type": "code",
   "metadata": {
    "executionInfo": {
     "elapsed": 6728,
     "status": "ok",
     "timestamp": 1688599479720,
     "user": {
      "displayName": "Joao Lucas Rodrigues Constantino",
      "userId": "10555694485099463605"
     },
     "user_tz": 180
    },
    "id": "XOPLuNlZvlrp",
    "ExecuteTime": {
     "end_time": "2024-04-28T16:33:36.993366Z",
     "start_time": "2024-04-28T16:33:36.990600Z"
    }
   },
   "source": [
    "# Dependencies\n",
    "import tensorflow as tf\n",
    "import keras\n",
    "from keras.models import Model, save_model, load_model\n",
    "from sklearn.model_selection import train_test_split\n",
    "import matplotlib.pyplot as plt\n",
    "import matplotlib.patches as patches\n",
    "from PIL import Image\n",
    "import pandas as pd\n",
    "import numpy as np\n",
    "import math\n",
    "\n",
    "# Random seed\n",
    "RANDOM_STATE = 11\n",
    "\n",
    "# Stylization of 2 graphics\n",
    "plt.style.use(\"bmh\")"
   ],
   "outputs": [],
   "execution_count": 8
  },
  {
   "cell_type": "code",
   "metadata": {
    "colab": {
     "base_uri": "https://localhost:8080/"
    },
    "executionInfo": {
     "elapsed": 21,
     "status": "ok",
     "timestamp": 1688599479721,
     "user": {
      "displayName": "Joao Lucas Rodrigues Constantino",
      "userId": "10555694485099463605"
     },
     "user_tz": 180
    },
    "id": "b0wficMRMb1n",
    "outputId": "6c5a0578-e364-4290-fcdd-d834135fb36a",
    "ExecuteTime": {
     "end_time": "2024-04-28T16:33:37.103112Z",
     "start_time": "2024-04-28T16:33:37.087361Z"
    }
   },
   "source": [
    "# Check if the GPU is being used and apply to memory expansion\n",
    "physical_devices = tf.config.experimental.list_physical_devices(\"GPU\")\n",
    "# YOU CHANGED THIS\n",
    "print(\"Quantitiy of GPUs available:\", len(physical_devices))\n",
    "tf.config.experimental.set_memory_growth(physical_devices[0], True)"
   ],
   "outputs": [
    {
     "name": "stdout",
     "output_type": "stream",
     "text": [
      "Quantitiy of GPUs available: 0\n"
     ]
    },
    {
     "ename": "IndexError",
     "evalue": "list index out of range",
     "output_type": "error",
     "traceback": [
      "\u001B[0;31m---------------------------------------------------------------------------\u001B[0m",
      "\u001B[0;31mIndexError\u001B[0m                                Traceback (most recent call last)",
      "Cell \u001B[0;32mIn[9], line 5\u001B[0m\n\u001B[1;32m      3\u001B[0m \u001B[38;5;66;03m# YOU CHANGED THIS\u001B[39;00m\n\u001B[1;32m      4\u001B[0m \u001B[38;5;28mprint\u001B[39m(\u001B[38;5;124m\"\u001B[39m\u001B[38;5;124mQuantitiy of GPUs available:\u001B[39m\u001B[38;5;124m\"\u001B[39m, \u001B[38;5;28mlen\u001B[39m(physical_devices))\n\u001B[0;32m----> 5\u001B[0m tf\u001B[38;5;241m.\u001B[39mconfig\u001B[38;5;241m.\u001B[39mexperimental\u001B[38;5;241m.\u001B[39mset_memory_growth(\u001B[43mphysical_devices\u001B[49m\u001B[43m[\u001B[49m\u001B[38;5;241;43m0\u001B[39;49m\u001B[43m]\u001B[49m, \u001B[38;5;28;01mTrue\u001B[39;00m)\n",
      "\u001B[0;31mIndexError\u001B[0m: list index out of range"
     ]
    }
   ],
   "execution_count": 9
  },
  {
   "attachments": {},
   "cell_type": "markdown",
   "metadata": {
    "id": "PXXUNl9avycD"
   },
   "source": [
    "# 3. Data Generator"
   ]
  },
  {
   "cell_type": "code",
   "metadata": {
    "executionInfo": {
     "elapsed": 19,
     "status": "ok",
     "timestamp": 1688599479722,
     "user": {
      "displayName": "Joao Lucas Rodrigues Constantino",
      "userId": "10555694485099463605"
     },
     "user_tz": 180
    },
    "id": "Vezl1H5-yfGm",
    "ExecuteTime": {
     "end_time": "2024-04-28T16:33:37.153397Z",
     "start_time": "2024-04-28T16:33:37.144913Z"
    }
   },
   "source": [
    "# To speed up processing\n",
    "from tensorflow.keras.utils import Sequence, to_categorical\n",
    "from tensorflow.keras.preprocessing.image import load_img, img_to_array\n",
    "from tensorflow.image import resize\n",
    "\n",
    "class LungCancerDataGenerator(Sequence):\n",
    "    '''\n",
    "    Data generator from set annotations\n",
    "    of data for predicting tumors in images\n",
    "    lung radiographs.\n",
    "    '''\n",
    "    def __init__(\n",
    "            self,\n",
    "            df,\n",
    "            data_directory_path,\n",
    "            batch_size=64,\n",
    "            input_shape=(512, 512, 3),\n",
    "            shuffle=True,\n",
    "            map=None\n",
    "        ):\n",
    "        '''\n",
    "        Parameters:\n",
    "        ----------\n",
    "        df: DataFrame\n",
    "            Table containing the dataset annotations.\n",
    "            It must contain the columns \"patient\", \"image\", \"xmin\",\n",
    "            \"ymin\", \"xmax\", \"ymax\" and \"class\".\n",
    "        data_directory_path: str\n",
    "            Path to the data directory.\n",
    "        batch_size: int, default=128\n",
    "            Desired size for data batches.\n",
    "        input_shape: tuple[3], default = (512, 512, 3)\n",
    "            Format of input tensors.\n",
    "        shuffle: bool, default=True\n",
    "            Indicates whether or not to shuffle the tuples\n",
    "            at the end of the era.\n",
    "        map: function, default=None\n",
    "            Image processing function.\n",
    "        '''\n",
    "        # Cópia do conjunto de dados\n",
    "        self.df = df.copy()\n",
    "\n",
    "        # Aquisição dos nomes de arquivo\n",
    "        self.df[\"filename\"] = df.patient_id + \"/\" + df.image_path.astype(\"str\") + \".jpg\"\n",
    "        self.df.drop(axis=1, labels=[\"patient_id\", \"image_path\"], inplace=True)\n",
    "\n",
    "        # Normalização da bounding box\n",
    "        self.df.xmin /= input_shape[0]\n",
    "        self.df.xmax /= input_shape[1]\n",
    "        self.df.ymin /= input_shape[0]\n",
    "        self.df.ymax /= input_shape[1]\n",
    "\n",
    "        # Mapeamento das classes para inteiros\n",
    "        self.df[\"class\"] = self.df[\"class\"].map({\n",
    "            label:idx for idx, label in enumerate(\n",
    "                self.df[\"class\"].unique()\n",
    "            )\n",
    "        })\n",
    "\n",
    "        # Caminho para o diretório contendo os dados\n",
    "        self.data_directory_path = data_directory_path\n",
    "        if self.data_directory_path[-1] != '/':\n",
    "            self.data_directory_path = self.data_directory_path + '/'\n",
    "\n",
    "        # Função de mapeamento das imagens\n",
    "        if map is None:\n",
    "            map = lambda x: x\n",
    "        self.map = map\n",
    "\n",
    "        # Demais informações\n",
    "        self.batch_size = batch_size\n",
    "        self.input_shape = input_shape\n",
    "        self.shuffle = shuffle\n",
    "        self.num_samples = len(self.df)\n",
    "        self.num_labels = self.df[\"class\"].nunique()\n",
    "\n",
    "\n",
    "    def __len__(self):\n",
    "        ''' Retorna a quantia de batches que o gerador pode produzir '''\n",
    "        return math.ceil(self.num_samples / self.batch_size)\n",
    "\n",
    "\n",
    "    def on_epoch_end(self):\n",
    "        '''\n",
    "        Embaralha o conjunto de dados a cada finalização\n",
    "        de época caso tal opção esteja ativa\n",
    "        '''\n",
    "        if self.shuffle:\n",
    "            self.df = self.df.sample(frac=1).reset_index(drop=True)\n",
    "\n",
    "\n",
    "    def _load_image(self, data):\n",
    "        ''' Carrega e pré-processa uma imagem com base numa tupla de dados '''\n",
    "\n",
    "        # Carregamento da imagem\n",
    "        # Obs.: \"rgb\", pois \"grayscale\" tem problema de canais com as redes pré-treinadas\n",
    "        img = load_img(self.data_directory_path + data.filename, color_mode=\"rgb\")\n",
    "        img = img_to_array(img)\n",
    "\n",
    "        # Reescala e normalização\n",
    "        img = resize(img, (self.input_shape[0], self.input_shape[1])).numpy()\n",
    "        img = img/255.0\n",
    "\n",
    "        return img\n",
    "\n",
    "\n",
    "    def _get_output(self, data):\n",
    "        ''' Retorna o valor de saída da instância '''\n",
    "\n",
    "        # Bounding box\n",
    "        xmin = data.xmin\n",
    "        ymin = data.ymin\n",
    "        xmax = data.xmax\n",
    "        ymax = data.ymax\n",
    "        bbox = np.array([xmin, ymin, xmax, ymax])\n",
    "\n",
    "        # Classe\n",
    "        label = data[\"class\"]\n",
    "        label = to_categorical(label, self.num_labels)\n",
    "\n",
    "        # Junção\n",
    "        return [bbox, label]\n",
    "\n",
    "\n",
    "    def __getitem__(self, index):\n",
    "        ''' Gera um batch de dados '''\n",
    "        batches = self.df[index*self.batch_size: (index+1)*self.batch_size]\n",
    "        X = self.map(np.array([self._load_image(row) for _, row in batches.iterrows()]))\n",
    "        y = np.array([self._get_output(row) for _, row in batches.iterrows()])\n",
    "        y = {\"bbox\": y[:,0,:], \"label\": y[:,1,:]}\n",
    "        return X, y"
   ],
   "outputs": [],
   "execution_count": 10
  },
  {
   "attachments": {},
   "cell_type": "markdown",
   "metadata": {
    "id": "OmAEyL7CBzRV"
   },
   "source": [
    "# 4. Loading and splitting data"
   ]
  },
  {
   "cell_type": "code",
   "metadata": {
    "colab": {
     "base_uri": "https://localhost:8080/",
     "height": 206
    },
    "executionInfo": {
     "elapsed": 2314,
     "status": "ok",
     "timestamp": 1688599482018,
     "user": {
      "displayName": "Joao Lucas Rodrigues Constantino",
      "userId": "10555694485099463605"
     },
     "user_tz": 180
    },
    "id": "a3DjVrypBigI",
    "outputId": "2efcbffa-63fd-4be3-92bd-35b0c19142bd",
    "ExecuteTime": {
     "end_time": "2024-04-28T16:33:37.192932Z",
     "start_time": "2024-04-28T16:33:37.183889Z"
    }
   },
   "source": [
    "# Image annotations\n",
    "import pandas as pd\n",
    "annotations = pd.read_csv(DATA_DIR + \"annotations.csv\")\n",
    "annotations.tail()"
   ],
   "outputs": [
    {
     "data": {
      "text/plain": [
       "     patient_id  image_path  xmin  ymin  xmax  ymax class\n",
       "3292      G0062           5   293   328   373   402     G\n",
       "3293      G0062           6   310   334   371   403     G\n",
       "3294      G0062           7   304   336   362   386     G\n",
       "3295      G0062           8   291   326   369   382     G\n",
       "3296      G0062           9   294   323   367   400     G"
      ],
      "text/html": [
       "<div>\n",
       "<style scoped>\n",
       "    .dataframe tbody tr th:only-of-type {\n",
       "        vertical-align: middle;\n",
       "    }\n",
       "\n",
       "    .dataframe tbody tr th {\n",
       "        vertical-align: top;\n",
       "    }\n",
       "\n",
       "    .dataframe thead th {\n",
       "        text-align: right;\n",
       "    }\n",
       "</style>\n",
       "<table border=\"1\" class=\"dataframe\">\n",
       "  <thead>\n",
       "    <tr style=\"text-align: right;\">\n",
       "      <th></th>\n",
       "      <th>patient_id</th>\n",
       "      <th>image_path</th>\n",
       "      <th>xmin</th>\n",
       "      <th>ymin</th>\n",
       "      <th>xmax</th>\n",
       "      <th>ymax</th>\n",
       "      <th>class</th>\n",
       "    </tr>\n",
       "  </thead>\n",
       "  <tbody>\n",
       "    <tr>\n",
       "      <th>3292</th>\n",
       "      <td>G0062</td>\n",
       "      <td>5</td>\n",
       "      <td>293</td>\n",
       "      <td>328</td>\n",
       "      <td>373</td>\n",
       "      <td>402</td>\n",
       "      <td>G</td>\n",
       "    </tr>\n",
       "    <tr>\n",
       "      <th>3293</th>\n",
       "      <td>G0062</td>\n",
       "      <td>6</td>\n",
       "      <td>310</td>\n",
       "      <td>334</td>\n",
       "      <td>371</td>\n",
       "      <td>403</td>\n",
       "      <td>G</td>\n",
       "    </tr>\n",
       "    <tr>\n",
       "      <th>3294</th>\n",
       "      <td>G0062</td>\n",
       "      <td>7</td>\n",
       "      <td>304</td>\n",
       "      <td>336</td>\n",
       "      <td>362</td>\n",
       "      <td>386</td>\n",
       "      <td>G</td>\n",
       "    </tr>\n",
       "    <tr>\n",
       "      <th>3295</th>\n",
       "      <td>G0062</td>\n",
       "      <td>8</td>\n",
       "      <td>291</td>\n",
       "      <td>326</td>\n",
       "      <td>369</td>\n",
       "      <td>382</td>\n",
       "      <td>G</td>\n",
       "    </tr>\n",
       "    <tr>\n",
       "      <th>3296</th>\n",
       "      <td>G0062</td>\n",
       "      <td>9</td>\n",
       "      <td>294</td>\n",
       "      <td>323</td>\n",
       "      <td>367</td>\n",
       "      <td>400</td>\n",
       "      <td>G</td>\n",
       "    </tr>\n",
       "  </tbody>\n",
       "</table>\n",
       "</div>"
      ]
     },
     "execution_count": 11,
     "metadata": {},
     "output_type": "execute_result"
    }
   ],
   "execution_count": 11
  },
  {
   "cell_type": "code",
   "metadata": {
    "colab": {
     "base_uri": "https://localhost:8080/",
     "height": 406
    },
    "executionInfo": {
     "elapsed": 45,
     "status": "ok",
     "timestamp": 1688599482019,
     "user": {
      "displayName": "Joao Lucas Rodrigues Constantino",
      "userId": "10555694485099463605"
     },
     "user_tz": 180
    },
    "id": "O8sQGxEUzCAJ",
    "outputId": "c6d55e14-09c2-4099-8a95-2c5ecb6aa739",
    "ExecuteTime": {
     "end_time": "2024-04-28T16:33:37.386865Z",
     "start_time": "2024-04-28T16:33:37.219762Z"
    }
   },
   "source": [
    "def display_sample_image(sample):\n",
    "    ''' Plots the image referring to an instance of the data '''\n",
    "    # YOU CHANGED THIS\n",
    "    img = Image.open(DATA_DIR + sample.patient_id + \"/\" + str(sample.image_path) + '.jpg')\n",
    "    fig, ax = plt.subplots()\n",
    "    ax.imshow(img)\n",
    "    rect = patches.Rectangle(\n",
    "        (sample.xmin, sample.ymin),\n",
    "        sample.xmax-sample.xmin,\n",
    "        sample.ymax-sample.ymin,\n",
    "        linewidth=2,\n",
    "        edgecolor='r',\n",
    "        facecolor='none'\n",
    "    )\n",
    "    ax.add_patch(rect)\n",
    "    ax.axis(\"off\")\n",
    "    plt.grid(False)\n",
    "    plt.show()\n",
    "\n",
    "# Viewing an instance of data\n",
    "sample = annotations.iloc[-3]\n",
    "display_sample_image(sample)"
   ],
   "outputs": [
    {
     "data": {
      "text/plain": [
       "<Figure size 640x480 with 1 Axes>"
      ],
      "image/png": "[encoded data removed]"
     },
     "metadata": {},
     "output_type": "display_data"
    }
   ],
   "execution_count": 12
  },
  {
   "attachments": {},
   "cell_type": "markdown",
   "metadata": {
    "id": "hkJyCNUH2ZAk"
   },
   "source": [
    "Observação: tem-se as seguintes classes:\n",
    "\n",
    "- A = Adenocarcinoma\n",
    "\n",
    "- B = Small Cell Carcinoma\n",
    "\n",
    "- E = Large Cell Carcinoma\n",
    "\n",
    "- G = Squamous Cell Carcinoma\n"
   ]
  },
  {
   "cell_type": "code",
   "metadata": {
    "colab": {
     "base_uri": "https://localhost:8080/",
     "height": 614
    },
    "executionInfo": {
     "elapsed": 39,
     "status": "ok",
     "timestamp": 1688599482019,
     "user": {
      "displayName": "Joao Lucas Rodrigues Constantino",
      "userId": "10555694485099463605"
     },
     "user_tz": 180
    },
    "id": "_6qNFg0Y1vug",
    "outputId": "d73b2779-cf18-42b5-ae40-7ea52b58ba30",
    "ExecuteTime": {
     "end_time": "2024-04-28T16:33:37.495026Z",
     "start_time": "2024-04-28T16:33:37.390955Z"
    }
   },
   "source": [
    "# Distribution of classes\n",
    "annotations[\"class\"].hist()\n",
    "# YOU CHANGED THIS\n",
    "pd.DataFrame(annotations.groupby(\"class\").patient_id.count())"
   ],
   "outputs": [
    {
     "data": {
      "text/plain": [
       "       patient_id\n",
       "class            \n",
       "A            2303\n",
       "B             355\n",
       "E              44\n",
       "G             595"
      ],
      "text/html": [
       "<div>\n",
       "<style scoped>\n",
       "    .dataframe tbody tr th:only-of-type {\n",
       "        vertical-align: middle;\n",
       "    }\n",
       "\n",
       "    .dataframe tbody tr th {\n",
       "        vertical-align: top;\n",
       "    }\n",
       "\n",
       "    .dataframe thead th {\n",
       "        text-align: right;\n",
       "    }\n",
       "</style>\n",
       "<table border=\"1\" class=\"dataframe\">\n",
       "  <thead>\n",
       "    <tr style=\"text-align: right;\">\n",
       "      <th></th>\n",
       "      <th>patient_id</th>\n",
       "    </tr>\n",
       "    <tr>\n",
       "      <th>class</th>\n",
       "      <th></th>\n",
       "    </tr>\n",
       "  </thead>\n",
       "  <tbody>\n",
       "    <tr>\n",
       "      <th>A</th>\n",
       "      <td>2303</td>\n",
       "    </tr>\n",
       "    <tr>\n",
       "      <th>B</th>\n",
       "      <td>355</td>\n",
       "    </tr>\n",
       "    <tr>\n",
       "      <th>E</th>\n",
       "      <td>44</td>\n",
       "    </tr>\n",
       "    <tr>\n",
       "      <th>G</th>\n",
       "      <td>595</td>\n",
       "    </tr>\n",
       "  </tbody>\n",
       "</table>\n",
       "</div>"
      ]
     },
     "execution_count": 13,
     "metadata": {},
     "output_type": "execute_result"
    },
    {
     "data": {
      "text/plain": [
       "<Figure size 640x480 with 1 Axes>"
      ],
      "image/png": "[encoded data removed]"
     },
     "metadata": {},
     "output_type": "display_data"
    }
   ],
   "execution_count": 13
  },
  {
   "cell_type": "code",
   "metadata": {
    "executionInfo": {
     "elapsed": 38,
     "status": "ok",
     "timestamp": 1688599482020,
     "user": {
      "displayName": "Joao Lucas Rodrigues Constantino",
      "userId": "10555694485099463605"
     },
     "user_tz": 180
    },
    "id": "xoqsZ8dPIM6o",
    "ExecuteTime": {
     "end_time": "2024-04-28T16:33:37.517404Z",
     "start_time": "2024-04-28T16:33:37.498087Z"
    }
   },
   "source": [
    "# Splitting the data\n",
    "X = annotations.drop(axis=1, labels=[\"class\"])\n",
    "y = annotations[\"class\"]\n",
    "\n",
    "# Stratified holdout (no computational power for k-folds)\n",
    "# 80% for training, 10% for validation, 10% for testing\n",
    "X_train, X_test, y_train, y_test = train_test_split(X, y, test_size=0.1, random_state=RANDOM_STATE, stratify=y)\n",
    "X_train, X_val, y_train, y_val = train_test_split(X_train, y_train, test_size=1/9, random_state=RANDOM_STATE, stratify=y_train)\n",
    "\n",
    "# Data generator\n",
    "train_data_generator = LungCancerDataGenerator(pd.concat([X_train, y_train], axis=1), DATA_DIR)\n",
    "test_data_generator = LungCancerDataGenerator(pd.concat([X_test, y_test], axis=1), DATA_DIR)\n",
    "val_data_generator = LungCancerDataGenerator(pd.concat([X_val, y_val], axis=1), DATA_DIR)"
   ],
   "outputs": [],
   "execution_count": 14
  },
  {
   "attachments": {},
   "cell_type": "markdown",
   "metadata": {
    "id": "cBKxzbYCMpO0"
   },
   "source": [
    "# 5. Model Training"
   ]
  },
  {
   "attachments": {},
   "cell_type": "markdown",
   "metadata": {
    "id": "zRuHXFlqOKju"
   },
   "source": [
    "## 5.1. General Dependencies"
   ]
  },
  {
   "cell_type": "code",
   "metadata": {
    "executionInfo": {
     "elapsed": 689,
     "status": "ok",
     "timestamp": 1688606619651,
     "user": {
      "displayName": "Joao Lucas Rodrigues Constantino",
      "userId": "10555694485099463605"
     },
     "user_tz": 180
    },
    "id": "F4jxkF6RLpuy",
    "ExecuteTime": {
     "end_time": "2024-04-28T16:33:37.557757Z",
     "start_time": "2024-04-28T16:33:37.526817Z"
    }
   },
   "source": [
    "# Epoch control\n",
    "from keras.callbacks import ReduceLROnPlateau, EarlyStopping, ModelCheckpoint\n",
    "\n",
    "# Optimizers\n",
    "from keras.optimizers.legacy import Adam, SGD\n",
    "\n",
    "# Layers\n",
    "from keras.layers import Dense, GlobalAveragePooling2D, Dropout\n",
    "\n",
    "# Original models\n",
    "from keras.applications.xception import Xception\n",
    "from keras.applications.resnet import ResNet50\n",
    "from keras.applications.inception_v3 import InceptionV3\n",
    "\n",
    "# For image pre-processing\n",
    "from keras.applications.xception import preprocess_input as xception_preprocess_input\n",
    "from keras.applications.resnet import preprocess_input as resnet_preprocess_input\n",
    "from keras.applications.inception_v3 import preprocess_input as inception_preprocess_input\n",
    "\n",
    "# For mapping\n",
    "XCEPTION = \"xception\"\n",
    "RESNET50 = \"resnet\"\n",
    "INCEPTIONV3 = \"inception\"\n",
    "results = {}\n",
    "\n",
    "# Paths to save models\n",
    "model_paths = {\n",
    "    XCEPTION: MODELS_DIR + \"xception_model.h5\",\n",
    "    RESNET50: MODELS_DIR + \"resnet50_model.h5\",\n",
    "    INCEPTIONV3: MODELS_DIR + \"inceptionv3_model.h5\",\n",
    "}\n",
    "\n",
    "# Input tensor\n",
    "input_tensor = keras.layers.Input(shape=(512, 512, 3))\n",
    "\n",
    "\n",
    "# Stop generator\n",
    "get_early_stopping = lambda patience=6: EarlyStopping (\n",
    "    monitor='loss',\n",
    "    min_delta=0,\n",
    "    patience=patience,\n",
    "    verbose=2,\n",
    "    mode='auto'\n",
    ")\n",
    "\n",
    "\n",
    "# Create checkpoint backups\n",
    "get_checkpointer = lambda model_name: ModelCheckpoint (\n",
    "    filepath = BACKUPS_DIR + model_name + '.{epoch:02d}.hdf5',\n",
    "    verbose=2,\n",
    "    save_best_only=True,\n",
    "    save_weights_only=True\n",
    ")\n",
    "\n",
    "\n",
    "def get_detector_model(base_model, num_classes=4):\n",
    "    '''\n",
    "    From a base model, returns a model\n",
    "    bounding box and class predictor for prediction\n",
    "    of tumors on lung x-rays\n",
    "    '''\n",
    "\n",
    "    # Base Model Output Processing\n",
    "    x = base_model.output\n",
    "    x = GlobalAveragePooling2D()(x)\n",
    "\n",
    "    # Function 1: bounding box\n",
    "    bbox = Dense(128, activation='relu')(x)\n",
    "    bbox = Dense(64, activation='relu')(bbox)\n",
    "    bbox = Dense(32, activation='relu')(bbox)\n",
    "    bbox_output = Dense(4, activation='sigmoid', name=\"bbox\")(bbox)\n",
    "\n",
    "    # Function 2: class prediction\n",
    "    label = Dense(512, activation=\"relu\")(x)\n",
    "    label = Dropout(0.5)(label)\n",
    "    label = Dense(512, activation=\"relu\")(label)\n",
    "    label = Dropout(0.5)(label)\n",
    "    label_output = Dense(num_classes, activation=\"softmax\", name=\"label\")(label)\n",
    "\n",
    "    # New model\n",
    "    detector_model = Model(inputs=base_model.input, outputs=(bbox_output, label_output))\n",
    "\n",
    "    # Freezing the convolutional layers of the base model\n",
    "    for layer in base_model.layers:\n",
    "        layer.trainable = False\n",
    "\n",
    "    # Compilation\n",
    "    detector_model.compile (\n",
    "        optimizer = Adam(learning_rate = 0.00025, clipnorm = 1.0),\n",
    "        metrics = {\n",
    "            \"label\": \"accuracy\",\n",
    "\t        \"bbox\": \"mse\",\n",
    "        },\n",
    "        loss = {\n",
    "            \"label\": \"categorical_crossentropy\",\n",
    "\t        \"bbox\": \"mean_squared_error\",\n",
    "        },\n",
    "        loss_weights = {\n",
    "\t        \"label\": 1.0,\n",
    "\t        \"bbox\": 1.0\n",
    "        }\n",
    "    )\n",
    "\n",
    "    return detector_model\n",
    "\n",
    "\n",
    "class ModelTrainer:\n",
    "    ''' Class used to train the models '''\n",
    "\n",
    "    def __init__(self, model, train_data_gen, test_data_gen, early_stopping, checkpointer):\n",
    "        ''' Storing boot information '''\n",
    "        self.model = model\n",
    "        self.train_data_gen = train_data_gen\n",
    "        self.test_data_gen = test_data_gen\n",
    "        self.early_stopping = early_stopping\n",
    "        self.checkpointer = checkpointer\n",
    "\n",
    "\n",
    "    def _train_model(self, epochs):\n",
    "        ''' Model training '''\n",
    "        return self.model.fit (\n",
    "            self.train_data_gen,\n",
    "            validation_data = self.test_data_gen,\n",
    "            epochs = epochs,\n",
    "            callbacks=[self.early_stopping, self.checkpointer]\n",
    "        )\n",
    "\n",
    "\n",
    "    def _recompile_model(self):\n",
    "        ''' Recompiles the bounding box prediction model after training its upper layers '''\n",
    "        self.model.compile (\n",
    "            optimizer = SGD(learning_rate=0.0001, momentum=0.9),\n",
    "            metrics = {\n",
    "                \"label\": [\n",
    "                    \"accuracy\",\n",
    "                    keras.metrics.Precision(name=\"precision\"),\n",
    "                    keras.metrics.Recall(name=\"recall\"),\n",
    "                ],\n",
    "                \"bbox\": \"mse\"\n",
    "            },\n",
    "            loss = {\n",
    "                \"label\": \"categorical_crossentropy\",\n",
    "                \"bbox\": \"mean_squared_error\",\n",
    "            },\n",
    "            loss_weights = {\n",
    "                \"label\": 1.0,\n",
    "                \"bbox\": 1.0\n",
    "            }\n",
    "        )\n",
    "\n",
    "\n",
    "    def _plot_common_graphs(self, epochs, history, ax):\n",
    "        ''' Prepares the plot of graphs common to both training sessions '''\n",
    "\n",
    "        # Label Loss\n",
    "        ax[0].plot(epochs, history['label_loss'], label=\"train\")\n",
    "        ax[0].plot(epochs, history['val_label_loss'], label=\"val\")\n",
    "        ax[0].set_title('Label Loss')\n",
    "        ax[0].set_xlabel(\"epoch\")\n",
    "        ax[0].legend()\n",
    "\n",
    "        # BBox Loss\n",
    "        ax[1].plot(epochs, history['bbox_loss'], label=\"train\")\n",
    "        ax[1].plot(epochs, history['val_bbox_loss'], label=\"val\")\n",
    "        ax[1].set_title('BBox Loss')\n",
    "        ax[1].set_xlabel(\"epoch\")\n",
    "        ax[1].legend()\n",
    "\n",
    "        # Label accuracy\n",
    "        ax[2].plot(epochs, history['label_accuracy'], label=\"train\")\n",
    "        ax[2].plot(epochs, history['val_label_accuracy'], label=\"val\")\n",
    "        ax[2].set_title('Label Accuracy')\n",
    "        ax[2].set_xlabel(\"epoch\")\n",
    "        ax[2].legend()\n",
    "\n",
    "        # BBox MSE\n",
    "        ax[3].plot(epochs, history['bbox_mse'], label=\"train\")\n",
    "        ax[3].plot(epochs, history['val_bbox_mse'], label=\"val\")\n",
    "        ax[3].set_title('BBox MSE')\n",
    "        ax[3].set_xlabel(\"epoch\")\n",
    "        ax[3].legend()\n",
    "\n",
    "\n",
    "    def first_train(self, epochs=4):\n",
    "        ''' Performs the first model training '''\n",
    "\n",
    "        # Training and background acquisition\n",
    "        history = self._train_model(epochs)\n",
    "\n",
    "        # Number of epochs passed\n",
    "        num_epochs = len(history.history['loss'])\n",
    "        epochs = np.arange(num_epochs)\n",
    "        history = history.history\n",
    "\n",
    "        # Number of epochs passed\n",
    "        num_epochs = len(history['loss'])\n",
    "        epochs = np.arange(num_epochs)\n",
    "\n",
    "        # Figure size\n",
    "        fig, ax = plt.subplots(1,4,figsize=(16,4))\n",
    "\n",
    "        # Graphics\n",
    "        self._plot_common_graphs(epochs, history, ax)\n",
    "\n",
    "        # Finalizing\n",
    "        plt.show()\n",
    "        return history\n",
    "\n",
    "\n",
    "    def second_train(self, epochs=16):\n",
    "        ''' Performs the second training of the model '''\n",
    "\n",
    "        # Recompile the model\n",
    "        self._recompile_model()\n",
    "\n",
    "        # Training & background acquisition\n",
    "        history = self._train_model(epochs)\n",
    "\n",
    "        # Number of epochs passed\n",
    "        num_epochs = len(history.history['loss'])\n",
    "        epochs = np.arange(num_epochs)\n",
    "        history = history.history\n",
    "\n",
    "        # Number of epochs passed\n",
    "        num_epochs = len(history['loss'])\n",
    "        epochs = np.arange(num_epochs)\n",
    "\n",
    "        # Figure size\n",
    "        fig, ax = plt.subplots(1,6,figsize=(24,4))\n",
    "\n",
    "        # Graphics\n",
    "        self._plot_common_graphs(epochs, history, ax)\n",
    "\n",
    "        # Accuracy graph\n",
    "        ax[4].plot(epochs, history['label_precision'], label=\"train\")\n",
    "        ax[4].plot(epochs, history['val_label_precision'], label=\"val\")\n",
    "        ax[4].set_title('Label Precision')\n",
    "        ax[4].set_xlabel(\"epoch\")\n",
    "        ax[4].legend()\n",
    "\n",
    "        # Recall graph\n",
    "        ax[5].plot(epochs, history['label_recall'], label=\"train\")\n",
    "        ax[5].plot(epochs, history['val_label_recall'], label=\"val\")\n",
    "        ax[5].set_title('Label Recall')\n",
    "        ax[5].set_xlabel(\"epoch\")\n",
    "        ax[5].legend()\n",
    "\n",
    "        # Plotting\n",
    "        plt.show()\n",
    "\n",
    "\n",
    "def display_prediction_on_sample_image(model, generator, sample_idx):\n",
    "    ''' Plota a imagem referente a uma instância dos dados, mostrando a predição do modelo '''\n",
    "\n",
    "    # Processamento da tupla de dados\n",
    "    data = generator.df.iloc[sample_idx]\n",
    "    X = generator.map(generator._load_image(data)).reshape((1,512,512,3))\n",
    "\n",
    "    # Predição\n",
    "    labels = [\"A\", \"B\", \"E\", \"G\"]\n",
    "    bbox, label = np.mean(model(X), axis=1)\n",
    "    bbox = np.array(bbox*512, dtype=\"int\")\n",
    "    label = labels[np.argmax(label)]\n",
    "\n",
    "    # Plotagem da imagem\n",
    "    img = Image.open(generator.data_directory_path + data.filename)\n",
    "    fig, ax = plt.subplots()\n",
    "    ax.imshow(img)\n",
    "\n",
    "    # Retângulo da predição\n",
    "    pred_rect = patches.Rectangle(\n",
    "        (bbox[0], bbox[1]),\n",
    "        bbox[2]-bbox[0],\n",
    "        bbox[3]-bbox[1],\n",
    "        linewidth=2,\n",
    "        edgecolor='r',\n",
    "        facecolor='none',\n",
    "        label=\"predicted: \" + label\n",
    "    )\n",
    "    ax.add_patch(pred_rect)\n",
    "\n",
    "    # Retângulo original\n",
    "    bbox = np.array([data.xmin, data.ymin, data.xmax, data.ymax])\n",
    "    bbox = np.array(bbox*512, dtype=\"int\")\n",
    "    rect = patches.Rectangle(\n",
    "        (bbox[0], bbox[1]),\n",
    "        bbox[2]-bbox[0],\n",
    "        bbox[3]-bbox[1],\n",
    "        linewidth=1,\n",
    "        edgecolor='b',\n",
    "        facecolor='none',\n",
    "        label=\"ground-truth: \" + labels[data[\"class\"]]\n",
    "    )\n",
    "    ax.add_patch(rect)\n",
    "\n",
    "    # Ajustes e plotagem final\n",
    "    ax.axis(\"off\")\n",
    "    ax.legend(loc='upper right')\n",
    "    plt.grid(False)\n",
    "    plt.show()"
   ],
   "outputs": [],
   "execution_count": 15
  },
  {
   "attachments": {},
   "cell_type": "markdown",
   "metadata": {
    "id": "qxi4zN_448jT"
   },
   "source": [
    "## 5.2. Xception"
   ]
  },
  {
   "cell_type": "code",
   "metadata": {
    "executionInfo": {
     "elapsed": 2282,
     "status": "ok",
     "timestamp": 1688603391927,
     "user": {
      "displayName": "Joao Lucas Rodrigues Constantino",
      "userId": "10555694485099463605"
     },
     "user_tz": 180
    },
    "id": "RuQwM3gqOVRQ",
    "ExecuteTime": {
     "end_time": "2024-04-28T16:33:38.395797Z",
     "start_time": "2024-04-28T16:33:37.559404Z"
    }
   },
   "source": [
    "# Obtaining the model\n",
    "base_model = Xception(input_tensor=input_tensor, weights='imagenet', include_top=False)\n",
    "xception_model = get_detector_model(base_model)\n",
    "\n",
    "# Modifying data generators\n",
    "train_data_generator.map = xception_preprocess_input\n",
    "test_data_generator.map = xception_preprocess_input\n",
    "val_data_generator.map = xception_preprocess_input\n",
    "\n",
    "# For epoch control\n",
    "early_stopping = get_early_stopping()\n",
    "checkpointer = get_checkpointer(\"xception\")\n",
    "\n",
    "# Training class\n",
    "trainer = ModelTrainer(\n",
    "    xception_model,\n",
    "    train_data_generator,\n",
    "    val_data_generator,\n",
    "    early_stopping,\n",
    "    checkpointer\n",
    ")"
   ],
   "outputs": [
    {
     "name": "stderr",
     "output_type": "stream",
     "text": [
      "WARNING:absl:At this time, the v2.11+ optimizer `tf.keras.optimizers.Adam` runs slowly on M1/M2 Macs, please use the legacy Keras optimizer instead, located at `tf.keras.optimizers.legacy.Adam`.\n"
     ]
    }
   ],
   "execution_count": 16
  },
  {
   "cell_type": "code",
   "metadata": {
    "colab": {
     "base_uri": "https://localhost:8080/",
     "height": 1000
    },
    "executionInfo": {
     "elapsed": 1117968,
     "status": "ok",
     "timestamp": 1688604527447,
     "user": {
      "displayName": "Joao Lucas Rodrigues Constantino",
      "userId": "10555694485099463605"
     },
     "user_tz": 180
    },
    "id": "0UfWbD6S9jS2",
    "outputId": "fd160a75-731b-4499-960a-5391c720a717",
    "ExecuteTime": {
     "end_time": "2024-04-28T16:42:21.039693Z",
     "start_time": "2024-04-28T16:33:38.396993Z"
    }
   },
   "source": [
    "# Treino das camadas superiores :: menos épocas aqui\n",
    "# WARNING: No such file or directory: '/content/drive/My Drive/LungModel/data/A0008/1.jpg'\n",
    "print(\"Primeiro treinamento\\n\")\n",
    "train_history = trainer.first_train(epochs=6)\n",
    "\n",
    "# Descongelamento das primeiras camadas\n",
    "for layer in xception_model.layers[:105]:\n",
    "   layer.trainable = False\n",
    "for layer in xception_model.layers[105:]:\n",
    "   layer.trainable = True\n",
    "\n",
    "# Treino definitivo :: mais épocas aqui\n",
    "print(\"\\n\\nSegundo treinamento\\n\")\n",
    "train_history = trainer.second_train(epochs=24)"
   ],
   "outputs": [
    {
     "name": "stdout",
     "output_type": "stream",
     "text": [
      "Primeiro treinamento\n",
      "\n",
      "Epoch 1/6\n",
      "42/42 [==============================] - ETA: 0s - loss: 0.9742 - bbox_loss: 0.0195 - label_loss: 0.9547 - bbox_mse: 0.0195 - label_accuracy: 0.6686\n",
      "Epoch 1: val_loss improved from inf to 1.90330, saving model to backups/xception.01.hdf5\n",
      "42/42 [==============================] - 334s 8s/step - loss: 0.9742 - bbox_loss: 0.0195 - label_loss: 0.9547 - bbox_mse: 0.0195 - label_accuracy: 0.6686 - val_loss: 1.9033 - val_bbox_loss: 0.0173 - val_label_loss: 1.8860 - val_bbox_mse: 0.0173 - val_label_accuracy: 0.1818\n",
      "Epoch 2/6\n",
      "27/42 [==================>...........] - ETA: 1:38 - loss: 0.8908 - bbox_loss: 0.0186 - label_loss: 0.8723 - bbox_mse: 0.0186 - label_accuracy: 0.7066"
     ]
    },
    {
     "ename": "KeyboardInterrupt",
     "evalue": "",
     "output_type": "error",
     "traceback": [
      "\u001B[0;31m---------------------------------------------------------------------------\u001B[0m",
      "\u001B[0;31mKeyboardInterrupt\u001B[0m                         Traceback (most recent call last)",
      "Cell \u001B[0;32mIn[17], line 4\u001B[0m\n\u001B[1;32m      1\u001B[0m \u001B[38;5;66;03m# Treino das camadas superiores :: menos épocas aqui\u001B[39;00m\n\u001B[1;32m      2\u001B[0m \u001B[38;5;66;03m# WARNING: No such file or directory: '/content/drive/My Drive/LungModel/data/A0008/1.jpg'\u001B[39;00m\n\u001B[1;32m      3\u001B[0m \u001B[38;5;28mprint\u001B[39m(\u001B[38;5;124m\"\u001B[39m\u001B[38;5;124mPrimeiro treinamento\u001B[39m\u001B[38;5;130;01m\\n\u001B[39;00m\u001B[38;5;124m\"\u001B[39m)\n\u001B[0;32m----> 4\u001B[0m train_history \u001B[38;5;241m=\u001B[39m \u001B[43mtrainer\u001B[49m\u001B[38;5;241;43m.\u001B[39;49m\u001B[43mfirst_train\u001B[49m\u001B[43m(\u001B[49m\u001B[43mepochs\u001B[49m\u001B[38;5;241;43m=\u001B[39;49m\u001B[38;5;241;43m6\u001B[39;49m\u001B[43m)\u001B[49m\n\u001B[1;32m      6\u001B[0m \u001B[38;5;66;03m# Descongelamento das primeiras camadas\u001B[39;00m\n\u001B[1;32m      7\u001B[0m \u001B[38;5;28;01mfor\u001B[39;00m layer \u001B[38;5;129;01min\u001B[39;00m xception_model\u001B[38;5;241m.\u001B[39mlayers[:\u001B[38;5;241m105\u001B[39m]:\n",
      "Cell \u001B[0;32mIn[15], line 188\u001B[0m, in \u001B[0;36mModelTrainer.first_train\u001B[0;34m(self, epochs)\u001B[0m\n\u001B[1;32m    185\u001B[0m \u001B[38;5;250m\u001B[39m\u001B[38;5;124;03m''' Performs the first model training '''\u001B[39;00m\n\u001B[1;32m    187\u001B[0m \u001B[38;5;66;03m# Training and background acquisition\u001B[39;00m\n\u001B[0;32m--> 188\u001B[0m history \u001B[38;5;241m=\u001B[39m \u001B[38;5;28;43mself\u001B[39;49m\u001B[38;5;241;43m.\u001B[39;49m\u001B[43m_train_model\u001B[49m\u001B[43m(\u001B[49m\u001B[43mepochs\u001B[49m\u001B[43m)\u001B[49m\n\u001B[1;32m    190\u001B[0m \u001B[38;5;66;03m# Number of epochs passed\u001B[39;00m\n\u001B[1;32m    191\u001B[0m num_epochs \u001B[38;5;241m=\u001B[39m \u001B[38;5;28mlen\u001B[39m(history\u001B[38;5;241m.\u001B[39mhistory[\u001B[38;5;124m'\u001B[39m\u001B[38;5;124mloss\u001B[39m\u001B[38;5;124m'\u001B[39m])\n",
      "Cell \u001B[0;32mIn[15], line 121\u001B[0m, in \u001B[0;36mModelTrainer._train_model\u001B[0;34m(self, epochs)\u001B[0m\n\u001B[1;32m    119\u001B[0m \u001B[38;5;28;01mdef\u001B[39;00m \u001B[38;5;21m_train_model\u001B[39m(\u001B[38;5;28mself\u001B[39m, epochs):\n\u001B[1;32m    120\u001B[0m \u001B[38;5;250m    \u001B[39m\u001B[38;5;124;03m''' Model training '''\u001B[39;00m\n\u001B[0;32m--> 121\u001B[0m     \u001B[38;5;28;01mreturn\u001B[39;00m \u001B[38;5;28;43mself\u001B[39;49m\u001B[38;5;241;43m.\u001B[39;49m\u001B[43mmodel\u001B[49m\u001B[38;5;241;43m.\u001B[39;49m\u001B[43mfit\u001B[49m\u001B[43m \u001B[49m\u001B[43m(\u001B[49m\n\u001B[1;32m    122\u001B[0m \u001B[43m        \u001B[49m\u001B[38;5;28;43mself\u001B[39;49m\u001B[38;5;241;43m.\u001B[39;49m\u001B[43mtrain_data_gen\u001B[49m\u001B[43m,\u001B[49m\n\u001B[1;32m    123\u001B[0m \u001B[43m        \u001B[49m\u001B[43mvalidation_data\u001B[49m\u001B[43m \u001B[49m\u001B[38;5;241;43m=\u001B[39;49m\u001B[43m \u001B[49m\u001B[38;5;28;43mself\u001B[39;49m\u001B[38;5;241;43m.\u001B[39;49m\u001B[43mtest_data_gen\u001B[49m\u001B[43m,\u001B[49m\n\u001B[1;32m    124\u001B[0m \u001B[43m        \u001B[49m\u001B[43mepochs\u001B[49m\u001B[43m \u001B[49m\u001B[38;5;241;43m=\u001B[39;49m\u001B[43m \u001B[49m\u001B[43mepochs\u001B[49m\u001B[43m,\u001B[49m\n\u001B[1;32m    125\u001B[0m \u001B[43m        \u001B[49m\u001B[43mcallbacks\u001B[49m\u001B[38;5;241;43m=\u001B[39;49m\u001B[43m[\u001B[49m\u001B[38;5;28;43mself\u001B[39;49m\u001B[38;5;241;43m.\u001B[39;49m\u001B[43mearly_stopping\u001B[49m\u001B[43m,\u001B[49m\u001B[43m \u001B[49m\u001B[38;5;28;43mself\u001B[39;49m\u001B[38;5;241;43m.\u001B[39;49m\u001B[43mcheckpointer\u001B[49m\u001B[43m]\u001B[49m\n\u001B[1;32m    126\u001B[0m \u001B[43m    \u001B[49m\u001B[43m)\u001B[49m\n",
      "File \u001B[0;32m~/miniconda3/envs/csci1470/lib/python3.10/site-packages/keras/src/utils/traceback_utils.py:65\u001B[0m, in \u001B[0;36mfilter_traceback.<locals>.error_handler\u001B[0;34m(*args, **kwargs)\u001B[0m\n\u001B[1;32m     63\u001B[0m filtered_tb \u001B[38;5;241m=\u001B[39m \u001B[38;5;28;01mNone\u001B[39;00m\n\u001B[1;32m     64\u001B[0m \u001B[38;5;28;01mtry\u001B[39;00m:\n\u001B[0;32m---> 65\u001B[0m     \u001B[38;5;28;01mreturn\u001B[39;00m \u001B[43mfn\u001B[49m\u001B[43m(\u001B[49m\u001B[38;5;241;43m*\u001B[39;49m\u001B[43margs\u001B[49m\u001B[43m,\u001B[49m\u001B[43m \u001B[49m\u001B[38;5;241;43m*\u001B[39;49m\u001B[38;5;241;43m*\u001B[39;49m\u001B[43mkwargs\u001B[49m\u001B[43m)\u001B[49m\n\u001B[1;32m     66\u001B[0m \u001B[38;5;28;01mexcept\u001B[39;00m \u001B[38;5;167;01mException\u001B[39;00m \u001B[38;5;28;01mas\u001B[39;00m e:\n\u001B[1;32m     67\u001B[0m     filtered_tb \u001B[38;5;241m=\u001B[39m _process_traceback_frames(e\u001B[38;5;241m.\u001B[39m__traceback__)\n",
      "File \u001B[0;32m~/miniconda3/envs/csci1470/lib/python3.10/site-packages/keras/src/engine/training.py:1807\u001B[0m, in \u001B[0;36mModel.fit\u001B[0;34m(self, x, y, batch_size, epochs, verbose, callbacks, validation_split, validation_data, shuffle, class_weight, sample_weight, initial_epoch, steps_per_epoch, validation_steps, validation_batch_size, validation_freq, max_queue_size, workers, use_multiprocessing)\u001B[0m\n\u001B[1;32m   1799\u001B[0m \u001B[38;5;28;01mwith\u001B[39;00m tf\u001B[38;5;241m.\u001B[39mprofiler\u001B[38;5;241m.\u001B[39mexperimental\u001B[38;5;241m.\u001B[39mTrace(\n\u001B[1;32m   1800\u001B[0m     \u001B[38;5;124m\"\u001B[39m\u001B[38;5;124mtrain\u001B[39m\u001B[38;5;124m\"\u001B[39m,\n\u001B[1;32m   1801\u001B[0m     epoch_num\u001B[38;5;241m=\u001B[39mepoch,\n\u001B[0;32m   (...)\u001B[0m\n\u001B[1;32m   1804\u001B[0m     _r\u001B[38;5;241m=\u001B[39m\u001B[38;5;241m1\u001B[39m,\n\u001B[1;32m   1805\u001B[0m ):\n\u001B[1;32m   1806\u001B[0m     callbacks\u001B[38;5;241m.\u001B[39mon_train_batch_begin(step)\n\u001B[0;32m-> 1807\u001B[0m     tmp_logs \u001B[38;5;241m=\u001B[39m \u001B[38;5;28;43mself\u001B[39;49m\u001B[38;5;241;43m.\u001B[39;49m\u001B[43mtrain_function\u001B[49m\u001B[43m(\u001B[49m\u001B[43miterator\u001B[49m\u001B[43m)\u001B[49m\n\u001B[1;32m   1808\u001B[0m     \u001B[38;5;28;01mif\u001B[39;00m data_handler\u001B[38;5;241m.\u001B[39mshould_sync:\n\u001B[1;32m   1809\u001B[0m         context\u001B[38;5;241m.\u001B[39masync_wait()\n",
      "File \u001B[0;32m~/miniconda3/envs/csci1470/lib/python3.10/site-packages/tensorflow/python/util/traceback_utils.py:150\u001B[0m, in \u001B[0;36mfilter_traceback.<locals>.error_handler\u001B[0;34m(*args, **kwargs)\u001B[0m\n\u001B[1;32m    148\u001B[0m filtered_tb \u001B[38;5;241m=\u001B[39m \u001B[38;5;28;01mNone\u001B[39;00m\n\u001B[1;32m    149\u001B[0m \u001B[38;5;28;01mtry\u001B[39;00m:\n\u001B[0;32m--> 150\u001B[0m   \u001B[38;5;28;01mreturn\u001B[39;00m \u001B[43mfn\u001B[49m\u001B[43m(\u001B[49m\u001B[38;5;241;43m*\u001B[39;49m\u001B[43margs\u001B[49m\u001B[43m,\u001B[49m\u001B[43m \u001B[49m\u001B[38;5;241;43m*\u001B[39;49m\u001B[38;5;241;43m*\u001B[39;49m\u001B[43mkwargs\u001B[49m\u001B[43m)\u001B[49m\n\u001B[1;32m    151\u001B[0m \u001B[38;5;28;01mexcept\u001B[39;00m \u001B[38;5;167;01mException\u001B[39;00m \u001B[38;5;28;01mas\u001B[39;00m e:\n\u001B[1;32m    152\u001B[0m   filtered_tb \u001B[38;5;241m=\u001B[39m _process_traceback_frames(e\u001B[38;5;241m.\u001B[39m__traceback__)\n",
      "File \u001B[0;32m~/miniconda3/envs/csci1470/lib/python3.10/site-packages/tensorflow/python/eager/polymorphic_function/polymorphic_function.py:832\u001B[0m, in \u001B[0;36mFunction.__call__\u001B[0;34m(self, *args, **kwds)\u001B[0m\n\u001B[1;32m    829\u001B[0m compiler \u001B[38;5;241m=\u001B[39m \u001B[38;5;124m\"\u001B[39m\u001B[38;5;124mxla\u001B[39m\u001B[38;5;124m\"\u001B[39m \u001B[38;5;28;01mif\u001B[39;00m \u001B[38;5;28mself\u001B[39m\u001B[38;5;241m.\u001B[39m_jit_compile \u001B[38;5;28;01melse\u001B[39;00m \u001B[38;5;124m\"\u001B[39m\u001B[38;5;124mnonXla\u001B[39m\u001B[38;5;124m\"\u001B[39m\n\u001B[1;32m    831\u001B[0m \u001B[38;5;28;01mwith\u001B[39;00m OptionalXlaContext(\u001B[38;5;28mself\u001B[39m\u001B[38;5;241m.\u001B[39m_jit_compile):\n\u001B[0;32m--> 832\u001B[0m   result \u001B[38;5;241m=\u001B[39m \u001B[38;5;28;43mself\u001B[39;49m\u001B[38;5;241;43m.\u001B[39;49m\u001B[43m_call\u001B[49m\u001B[43m(\u001B[49m\u001B[38;5;241;43m*\u001B[39;49m\u001B[43margs\u001B[49m\u001B[43m,\u001B[49m\u001B[43m \u001B[49m\u001B[38;5;241;43m*\u001B[39;49m\u001B[38;5;241;43m*\u001B[39;49m\u001B[43mkwds\u001B[49m\u001B[43m)\u001B[49m\n\u001B[1;32m    834\u001B[0m new_tracing_count \u001B[38;5;241m=\u001B[39m \u001B[38;5;28mself\u001B[39m\u001B[38;5;241m.\u001B[39mexperimental_get_tracing_count()\n\u001B[1;32m    835\u001B[0m without_tracing \u001B[38;5;241m=\u001B[39m (tracing_count \u001B[38;5;241m==\u001B[39m new_tracing_count)\n",
      "File \u001B[0;32m~/miniconda3/envs/csci1470/lib/python3.10/site-packages/tensorflow/python/eager/polymorphic_function/polymorphic_function.py:868\u001B[0m, in \u001B[0;36mFunction._call\u001B[0;34m(self, *args, **kwds)\u001B[0m\n\u001B[1;32m    865\u001B[0m   \u001B[38;5;28mself\u001B[39m\u001B[38;5;241m.\u001B[39m_lock\u001B[38;5;241m.\u001B[39mrelease()\n\u001B[1;32m    866\u001B[0m   \u001B[38;5;66;03m# In this case we have created variables on the first call, so we run the\u001B[39;00m\n\u001B[1;32m    867\u001B[0m   \u001B[38;5;66;03m# defunned version which is guaranteed to never create variables.\u001B[39;00m\n\u001B[0;32m--> 868\u001B[0m   \u001B[38;5;28;01mreturn\u001B[39;00m \u001B[43mtracing_compilation\u001B[49m\u001B[38;5;241;43m.\u001B[39;49m\u001B[43mcall_function\u001B[49m\u001B[43m(\u001B[49m\n\u001B[1;32m    869\u001B[0m \u001B[43m      \u001B[49m\u001B[43margs\u001B[49m\u001B[43m,\u001B[49m\u001B[43m \u001B[49m\u001B[43mkwds\u001B[49m\u001B[43m,\u001B[49m\u001B[43m \u001B[49m\u001B[38;5;28;43mself\u001B[39;49m\u001B[38;5;241;43m.\u001B[39;49m\u001B[43m_no_variable_creation_config\u001B[49m\n\u001B[1;32m    870\u001B[0m \u001B[43m  \u001B[49m\u001B[43m)\u001B[49m\n\u001B[1;32m    871\u001B[0m \u001B[38;5;28;01melif\u001B[39;00m \u001B[38;5;28mself\u001B[39m\u001B[38;5;241m.\u001B[39m_variable_creation_config \u001B[38;5;129;01mis\u001B[39;00m \u001B[38;5;129;01mnot\u001B[39;00m \u001B[38;5;28;01mNone\u001B[39;00m:\n\u001B[1;32m    872\u001B[0m   \u001B[38;5;66;03m# Release the lock early so that multiple threads can perform the call\u001B[39;00m\n\u001B[1;32m    873\u001B[0m   \u001B[38;5;66;03m# in parallel.\u001B[39;00m\n\u001B[1;32m    874\u001B[0m   \u001B[38;5;28mself\u001B[39m\u001B[38;5;241m.\u001B[39m_lock\u001B[38;5;241m.\u001B[39mrelease()\n",
      "File \u001B[0;32m~/miniconda3/envs/csci1470/lib/python3.10/site-packages/tensorflow/python/eager/polymorphic_function/tracing_compilation.py:139\u001B[0m, in \u001B[0;36mcall_function\u001B[0;34m(args, kwargs, tracing_options)\u001B[0m\n\u001B[1;32m    137\u001B[0m bound_args \u001B[38;5;241m=\u001B[39m function\u001B[38;5;241m.\u001B[39mfunction_type\u001B[38;5;241m.\u001B[39mbind(\u001B[38;5;241m*\u001B[39margs, \u001B[38;5;241m*\u001B[39m\u001B[38;5;241m*\u001B[39mkwargs)\n\u001B[1;32m    138\u001B[0m flat_inputs \u001B[38;5;241m=\u001B[39m function\u001B[38;5;241m.\u001B[39mfunction_type\u001B[38;5;241m.\u001B[39munpack_inputs(bound_args)\n\u001B[0;32m--> 139\u001B[0m \u001B[38;5;28;01mreturn\u001B[39;00m \u001B[43mfunction\u001B[49m\u001B[38;5;241;43m.\u001B[39;49m\u001B[43m_call_flat\u001B[49m\u001B[43m(\u001B[49m\u001B[43m  \u001B[49m\u001B[38;5;66;43;03m# pylint: disable=protected-access\u001B[39;49;00m\n\u001B[1;32m    140\u001B[0m \u001B[43m    \u001B[49m\u001B[43mflat_inputs\u001B[49m\u001B[43m,\u001B[49m\u001B[43m \u001B[49m\u001B[43mcaptured_inputs\u001B[49m\u001B[38;5;241;43m=\u001B[39;49m\u001B[43mfunction\u001B[49m\u001B[38;5;241;43m.\u001B[39;49m\u001B[43mcaptured_inputs\u001B[49m\n\u001B[1;32m    141\u001B[0m \u001B[43m\u001B[49m\u001B[43m)\u001B[49m\n",
      "File \u001B[0;32m~/miniconda3/envs/csci1470/lib/python3.10/site-packages/tensorflow/python/eager/polymorphic_function/concrete_function.py:1323\u001B[0m, in \u001B[0;36mConcreteFunction._call_flat\u001B[0;34m(self, tensor_inputs, captured_inputs)\u001B[0m\n\u001B[1;32m   1319\u001B[0m possible_gradient_type \u001B[38;5;241m=\u001B[39m gradients_util\u001B[38;5;241m.\u001B[39mPossibleTapeGradientTypes(args)\n\u001B[1;32m   1320\u001B[0m \u001B[38;5;28;01mif\u001B[39;00m (possible_gradient_type \u001B[38;5;241m==\u001B[39m gradients_util\u001B[38;5;241m.\u001B[39mPOSSIBLE_GRADIENT_TYPES_NONE\n\u001B[1;32m   1321\u001B[0m     \u001B[38;5;129;01mand\u001B[39;00m executing_eagerly):\n\u001B[1;32m   1322\u001B[0m   \u001B[38;5;66;03m# No tape is watching; skip to running the function.\u001B[39;00m\n\u001B[0;32m-> 1323\u001B[0m   \u001B[38;5;28;01mreturn\u001B[39;00m \u001B[38;5;28;43mself\u001B[39;49m\u001B[38;5;241;43m.\u001B[39;49m\u001B[43m_inference_function\u001B[49m\u001B[38;5;241;43m.\u001B[39;49m\u001B[43mcall_preflattened\u001B[49m\u001B[43m(\u001B[49m\u001B[43margs\u001B[49m\u001B[43m)\u001B[49m\n\u001B[1;32m   1324\u001B[0m forward_backward \u001B[38;5;241m=\u001B[39m \u001B[38;5;28mself\u001B[39m\u001B[38;5;241m.\u001B[39m_select_forward_and_backward_functions(\n\u001B[1;32m   1325\u001B[0m     args,\n\u001B[1;32m   1326\u001B[0m     possible_gradient_type,\n\u001B[1;32m   1327\u001B[0m     executing_eagerly)\n\u001B[1;32m   1328\u001B[0m forward_function, args_with_tangents \u001B[38;5;241m=\u001B[39m forward_backward\u001B[38;5;241m.\u001B[39mforward()\n",
      "File \u001B[0;32m~/miniconda3/envs/csci1470/lib/python3.10/site-packages/tensorflow/python/eager/polymorphic_function/atomic_function.py:216\u001B[0m, in \u001B[0;36mAtomicFunction.call_preflattened\u001B[0;34m(self, args)\u001B[0m\n\u001B[1;32m    214\u001B[0m \u001B[38;5;28;01mdef\u001B[39;00m \u001B[38;5;21mcall_preflattened\u001B[39m(\u001B[38;5;28mself\u001B[39m, args: Sequence[core\u001B[38;5;241m.\u001B[39mTensor]) \u001B[38;5;241m-\u001B[39m\u001B[38;5;241m>\u001B[39m Any:\n\u001B[1;32m    215\u001B[0m \u001B[38;5;250m  \u001B[39m\u001B[38;5;124;03m\"\"\"Calls with flattened tensor inputs and returns the structured output.\"\"\"\u001B[39;00m\n\u001B[0;32m--> 216\u001B[0m   flat_outputs \u001B[38;5;241m=\u001B[39m \u001B[38;5;28;43mself\u001B[39;49m\u001B[38;5;241;43m.\u001B[39;49m\u001B[43mcall_flat\u001B[49m\u001B[43m(\u001B[49m\u001B[38;5;241;43m*\u001B[39;49m\u001B[43margs\u001B[49m\u001B[43m)\u001B[49m\n\u001B[1;32m    217\u001B[0m   \u001B[38;5;28;01mreturn\u001B[39;00m \u001B[38;5;28mself\u001B[39m\u001B[38;5;241m.\u001B[39mfunction_type\u001B[38;5;241m.\u001B[39mpack_output(flat_outputs)\n",
      "File \u001B[0;32m~/miniconda3/envs/csci1470/lib/python3.10/site-packages/tensorflow/python/eager/polymorphic_function/atomic_function.py:251\u001B[0m, in \u001B[0;36mAtomicFunction.call_flat\u001B[0;34m(self, *args)\u001B[0m\n\u001B[1;32m    249\u001B[0m \u001B[38;5;28;01mwith\u001B[39;00m record\u001B[38;5;241m.\u001B[39mstop_recording():\n\u001B[1;32m    250\u001B[0m   \u001B[38;5;28;01mif\u001B[39;00m \u001B[38;5;28mself\u001B[39m\u001B[38;5;241m.\u001B[39m_bound_context\u001B[38;5;241m.\u001B[39mexecuting_eagerly():\n\u001B[0;32m--> 251\u001B[0m     outputs \u001B[38;5;241m=\u001B[39m \u001B[38;5;28;43mself\u001B[39;49m\u001B[38;5;241;43m.\u001B[39;49m\u001B[43m_bound_context\u001B[49m\u001B[38;5;241;43m.\u001B[39;49m\u001B[43mcall_function\u001B[49m\u001B[43m(\u001B[49m\n\u001B[1;32m    252\u001B[0m \u001B[43m        \u001B[49m\u001B[38;5;28;43mself\u001B[39;49m\u001B[38;5;241;43m.\u001B[39;49m\u001B[43mname\u001B[49m\u001B[43m,\u001B[49m\n\u001B[1;32m    253\u001B[0m \u001B[43m        \u001B[49m\u001B[38;5;28;43mlist\u001B[39;49m\u001B[43m(\u001B[49m\u001B[43margs\u001B[49m\u001B[43m)\u001B[49m\u001B[43m,\u001B[49m\n\u001B[1;32m    254\u001B[0m \u001B[43m        \u001B[49m\u001B[38;5;28;43mlen\u001B[39;49m\u001B[43m(\u001B[49m\u001B[38;5;28;43mself\u001B[39;49m\u001B[38;5;241;43m.\u001B[39;49m\u001B[43mfunction_type\u001B[49m\u001B[38;5;241;43m.\u001B[39;49m\u001B[43mflat_outputs\u001B[49m\u001B[43m)\u001B[49m\u001B[43m,\u001B[49m\n\u001B[1;32m    255\u001B[0m \u001B[43m    \u001B[49m\u001B[43m)\u001B[49m\n\u001B[1;32m    256\u001B[0m   \u001B[38;5;28;01melse\u001B[39;00m:\n\u001B[1;32m    257\u001B[0m     outputs \u001B[38;5;241m=\u001B[39m make_call_op_in_graph(\n\u001B[1;32m    258\u001B[0m         \u001B[38;5;28mself\u001B[39m,\n\u001B[1;32m    259\u001B[0m         \u001B[38;5;28mlist\u001B[39m(args),\n\u001B[1;32m    260\u001B[0m         \u001B[38;5;28mself\u001B[39m\u001B[38;5;241m.\u001B[39m_bound_context\u001B[38;5;241m.\u001B[39mfunction_call_options\u001B[38;5;241m.\u001B[39mas_attrs(),\n\u001B[1;32m    261\u001B[0m     )\n",
      "File \u001B[0;32m~/miniconda3/envs/csci1470/lib/python3.10/site-packages/tensorflow/python/eager/context.py:1486\u001B[0m, in \u001B[0;36mContext.call_function\u001B[0;34m(self, name, tensor_inputs, num_outputs)\u001B[0m\n\u001B[1;32m   1484\u001B[0m cancellation_context \u001B[38;5;241m=\u001B[39m cancellation\u001B[38;5;241m.\u001B[39mcontext()\n\u001B[1;32m   1485\u001B[0m \u001B[38;5;28;01mif\u001B[39;00m cancellation_context \u001B[38;5;129;01mis\u001B[39;00m \u001B[38;5;28;01mNone\u001B[39;00m:\n\u001B[0;32m-> 1486\u001B[0m   outputs \u001B[38;5;241m=\u001B[39m \u001B[43mexecute\u001B[49m\u001B[38;5;241;43m.\u001B[39;49m\u001B[43mexecute\u001B[49m\u001B[43m(\u001B[49m\n\u001B[1;32m   1487\u001B[0m \u001B[43m      \u001B[49m\u001B[43mname\u001B[49m\u001B[38;5;241;43m.\u001B[39;49m\u001B[43mdecode\u001B[49m\u001B[43m(\u001B[49m\u001B[38;5;124;43m\"\u001B[39;49m\u001B[38;5;124;43mutf-8\u001B[39;49m\u001B[38;5;124;43m\"\u001B[39;49m\u001B[43m)\u001B[49m\u001B[43m,\u001B[49m\n\u001B[1;32m   1488\u001B[0m \u001B[43m      \u001B[49m\u001B[43mnum_outputs\u001B[49m\u001B[38;5;241;43m=\u001B[39;49m\u001B[43mnum_outputs\u001B[49m\u001B[43m,\u001B[49m\n\u001B[1;32m   1489\u001B[0m \u001B[43m      \u001B[49m\u001B[43minputs\u001B[49m\u001B[38;5;241;43m=\u001B[39;49m\u001B[43mtensor_inputs\u001B[49m\u001B[43m,\u001B[49m\n\u001B[1;32m   1490\u001B[0m \u001B[43m      \u001B[49m\u001B[43mattrs\u001B[49m\u001B[38;5;241;43m=\u001B[39;49m\u001B[43mattrs\u001B[49m\u001B[43m,\u001B[49m\n\u001B[1;32m   1491\u001B[0m \u001B[43m      \u001B[49m\u001B[43mctx\u001B[49m\u001B[38;5;241;43m=\u001B[39;49m\u001B[38;5;28;43mself\u001B[39;49m\u001B[43m,\u001B[49m\n\u001B[1;32m   1492\u001B[0m \u001B[43m  \u001B[49m\u001B[43m)\u001B[49m\n\u001B[1;32m   1493\u001B[0m \u001B[38;5;28;01melse\u001B[39;00m:\n\u001B[1;32m   1494\u001B[0m   outputs \u001B[38;5;241m=\u001B[39m execute\u001B[38;5;241m.\u001B[39mexecute_with_cancellation(\n\u001B[1;32m   1495\u001B[0m       name\u001B[38;5;241m.\u001B[39mdecode(\u001B[38;5;124m\"\u001B[39m\u001B[38;5;124mutf-8\u001B[39m\u001B[38;5;124m\"\u001B[39m),\n\u001B[1;32m   1496\u001B[0m       num_outputs\u001B[38;5;241m=\u001B[39mnum_outputs,\n\u001B[0;32m   (...)\u001B[0m\n\u001B[1;32m   1500\u001B[0m       cancellation_manager\u001B[38;5;241m=\u001B[39mcancellation_context,\n\u001B[1;32m   1501\u001B[0m   )\n",
      "File \u001B[0;32m~/miniconda3/envs/csci1470/lib/python3.10/site-packages/tensorflow/python/eager/execute.py:53\u001B[0m, in \u001B[0;36mquick_execute\u001B[0;34m(op_name, num_outputs, inputs, attrs, ctx, name)\u001B[0m\n\u001B[1;32m     51\u001B[0m \u001B[38;5;28;01mtry\u001B[39;00m:\n\u001B[1;32m     52\u001B[0m   ctx\u001B[38;5;241m.\u001B[39mensure_initialized()\n\u001B[0;32m---> 53\u001B[0m   tensors \u001B[38;5;241m=\u001B[39m \u001B[43mpywrap_tfe\u001B[49m\u001B[38;5;241;43m.\u001B[39;49m\u001B[43mTFE_Py_Execute\u001B[49m\u001B[43m(\u001B[49m\u001B[43mctx\u001B[49m\u001B[38;5;241;43m.\u001B[39;49m\u001B[43m_handle\u001B[49m\u001B[43m,\u001B[49m\u001B[43m \u001B[49m\u001B[43mdevice_name\u001B[49m\u001B[43m,\u001B[49m\u001B[43m \u001B[49m\u001B[43mop_name\u001B[49m\u001B[43m,\u001B[49m\n\u001B[1;32m     54\u001B[0m \u001B[43m                                      \u001B[49m\u001B[43minputs\u001B[49m\u001B[43m,\u001B[49m\u001B[43m \u001B[49m\u001B[43mattrs\u001B[49m\u001B[43m,\u001B[49m\u001B[43m \u001B[49m\u001B[43mnum_outputs\u001B[49m\u001B[43m)\u001B[49m\n\u001B[1;32m     55\u001B[0m \u001B[38;5;28;01mexcept\u001B[39;00m core\u001B[38;5;241m.\u001B[39m_NotOkStatusException \u001B[38;5;28;01mas\u001B[39;00m e:\n\u001B[1;32m     56\u001B[0m   \u001B[38;5;28;01mif\u001B[39;00m name \u001B[38;5;129;01mis\u001B[39;00m \u001B[38;5;129;01mnot\u001B[39;00m \u001B[38;5;28;01mNone\u001B[39;00m:\n",
      "\u001B[0;31mKeyboardInterrupt\u001B[0m: "
     ]
    }
   ],
   "execution_count": 17
  },
  {
   "cell_type": "code",
   "metadata": {
    "colab": {
     "base_uri": "https://localhost:8080/"
    },
    "executionInfo": {
     "elapsed": 4436,
     "status": "ok",
     "timestamp": 1688604531866,
     "user": {
      "displayName": "Joao Lucas Rodrigues Constantino",
      "userId": "10555694485099463605"
     },
     "user_tz": 180
    },
    "id": "2SO8U9KR_id_",
    "outputId": "3b730662-292f-4e28-e032-ca853e1cf2dc"
   },
   "source": [
    "# Teste\n",
    "results[XCEPTION] = xception_model.evaluate(test_data_generator)"
   ],
   "outputs": [],
   "execution_count": null
  },
  {
   "cell_type": "code",
   "metadata": {
    "colab": {
     "base_uri": "https://localhost:8080/",
     "height": 406
    },
    "executionInfo": {
     "elapsed": 58,
     "status": "ok",
     "timestamp": 1688604531867,
     "user": {
      "displayName": "Joao Lucas Rodrigues Constantino",
      "userId": "10555694485099463605"
     },
     "user_tz": 180
    },
    "id": "lX6JvdR7Tf9d",
    "outputId": "2fe7de99-d180-4e1c-d8a0-7aa3b9f024de"
   },
   "source": [
    "# Plota uma solução encontrada\n",
    "display_prediction_on_sample_image(xception_model, test_data_generator, -1)"
   ],
   "outputs": [],
   "execution_count": null
  },
  {
   "cell_type": "code",
   "metadata": {
    "executionInfo": {
     "elapsed": 3383,
     "status": "ok",
     "timestamp": 1688604535200,
     "user": {
      "displayName": "Joao Lucas Rodrigues Constantino",
      "userId": "10555694485099463605"
     },
     "user_tz": 180
    },
    "id": "Z61Ydw4E91EV"
   },
   "source": [
    "# Salvamento definitivo do modelo\n",
    "save_model(xception_model, model_paths[XCEPTION])"
   ],
   "outputs": [],
   "execution_count": null
  },
  {
   "attachments": {},
   "cell_type": "markdown",
   "metadata": {
    "id": "520wn5HVh8vv"
   },
   "source": [
    "## 5.3. ResNet50"
   ]
  },
  {
   "cell_type": "code",
   "metadata": {
    "executionInfo": {
     "elapsed": 3713,
     "status": "ok",
     "timestamp": 1688604538909,
     "user": {
      "displayName": "Joao Lucas Rodrigues Constantino",
      "userId": "10555694485099463605"
     },
     "user_tz": 180
    },
    "id": "0GwKEpbETmmS",
    "ExecuteTime": {
     "end_time": "2024-04-28T18:19:26.983598Z",
     "start_time": "2024-04-28T18:19:26.082792Z"
    }
   },
   "source": [
    "# Obtenção do modelo\n",
    "base_model = ResNet50(input_tensor=input_tensor, weights='imagenet', include_top=False)\n",
    "resnet50_model = get_detector_model(base_model)\n",
    "\n",
    "# Modificação dos geradores de dados\n",
    "train_data_generator.map = resnet_preprocess_input\n",
    "test_data_generator.map = resnet_preprocess_input\n",
    "val_data_generator.map = resnet_preprocess_input\n",
    "\n",
    "# Para controle de época\n",
    "early_stopping = get_early_stopping()\n",
    "checkpointer = get_checkpointer(\"xception\")\n",
    "\n",
    "# Classe de treinamento\n",
    "trainer = ModelTrainer(\n",
    "    resnet50_model,\n",
    "    train_data_generator,\n",
    "    val_data_generator,\n",
    "    early_stopping,\n",
    "    checkpointer\n",
    ")"
   ],
   "outputs": [
    {
     "name": "stderr",
     "output_type": "stream",
     "text": [
      "WARNING:absl:At this time, the v2.11+ optimizer `tf.keras.optimizers.Adam` runs slowly on M1/M2 Macs, please use the legacy Keras optimizer instead, located at `tf.keras.optimizers.legacy.Adam`.\n"
     ]
    }
   ],
   "execution_count": 18
  },
  {
   "cell_type": "code",
   "metadata": {
    "colab": {
     "base_uri": "https://localhost:8080/",
     "height": 1000
    },
    "executionInfo": {
     "elapsed": 1059893,
     "status": "ok",
     "timestamp": 1688605598787,
     "user": {
      "displayName": "Joao Lucas Rodrigues Constantino",
      "userId": "10555694485099463605"
     },
     "user_tz": 180
    },
    "id": "Vt72HLbqiMn2",
    "outputId": "fcd2cc6d-9444-4260-d6f2-9c40ce7d6241",
    "ExecuteTime": {
     "end_time": "2024-04-28T18:27:40.371853Z",
     "start_time": "2024-04-28T18:19:29.059904Z"
    }
   },
   "source": [
    "# Treino das camadas superiores :: menos épocas aqui\n",
    "print(\"Primeiro treinamento\\n\")\n",
    "train_history = trainer.first_train(epochs=6)\n",
    "\n",
    "# Descongelamento das primeiras camadas\n",
    "for layer in resnet50_model.layers[:154]:\n",
    "   layer.trainable = False\n",
    "for layer in resnet50_model.layers[154:]:\n",
    "   layer.trainable = True\n",
    "\n",
    "# Treino definitivo :: mais épocas aqui\n",
    "print(\"\\n\\nSegundo treinamento\\n\")\n",
    "train_history = trainer.second_train(epochs=24)"
   ],
   "outputs": [
    {
     "name": "stdout",
     "output_type": "stream",
     "text": [
      "Primeiro treinamento\n",
      "\n",
      "Epoch 1/6\n",
      "42/42 [==============================] - ETA: 0s - loss: 1.1561 - bbox_loss: 0.0206 - label_loss: 1.1355 - bbox_mse: 0.0206 - label_accuracy: 0.6196\n",
      "Epoch 1: val_loss improved from inf to 1.89713, saving model to backups/xception.01.hdf5\n",
      "42/42 [==============================] - 311s 7s/step - loss: 1.1561 - bbox_loss: 0.0206 - label_loss: 1.1355 - bbox_mse: 0.0206 - label_accuracy: 0.6196 - val_loss: 1.8971 - val_bbox_loss: 0.0178 - val_label_loss: 1.8793 - val_bbox_mse: 0.0178 - val_label_accuracy: 0.1818\n",
      "Epoch 2/6\n",
      "26/42 [=================>............] - ETA: 1:46 - loss: 0.9422 - bbox_loss: 0.0193 - label_loss: 0.9229 - bbox_mse: 0.0193 - label_accuracy: 0.6838"
     ]
    },
    {
     "ename": "KeyboardInterrupt",
     "evalue": "",
     "output_type": "error",
     "traceback": [
      "\u001B[0;31m---------------------------------------------------------------------------\u001B[0m",
      "\u001B[0;31mKeyboardInterrupt\u001B[0m                         Traceback (most recent call last)",
      "Cell \u001B[0;32mIn[19], line 3\u001B[0m\n\u001B[1;32m      1\u001B[0m \u001B[38;5;66;03m# Treino das camadas superiores :: menos épocas aqui\u001B[39;00m\n\u001B[1;32m      2\u001B[0m \u001B[38;5;28mprint\u001B[39m(\u001B[38;5;124m\"\u001B[39m\u001B[38;5;124mPrimeiro treinamento\u001B[39m\u001B[38;5;130;01m\\n\u001B[39;00m\u001B[38;5;124m\"\u001B[39m)\n\u001B[0;32m----> 3\u001B[0m train_history \u001B[38;5;241m=\u001B[39m \u001B[43mtrainer\u001B[49m\u001B[38;5;241;43m.\u001B[39;49m\u001B[43mfirst_train\u001B[49m\u001B[43m(\u001B[49m\u001B[43mepochs\u001B[49m\u001B[38;5;241;43m=\u001B[39;49m\u001B[38;5;241;43m6\u001B[39;49m\u001B[43m)\u001B[49m\n\u001B[1;32m      5\u001B[0m \u001B[38;5;66;03m# Descongelamento das primeiras camadas\u001B[39;00m\n\u001B[1;32m      6\u001B[0m \u001B[38;5;28;01mfor\u001B[39;00m layer \u001B[38;5;129;01min\u001B[39;00m resnet50_model\u001B[38;5;241m.\u001B[39mlayers[:\u001B[38;5;241m154\u001B[39m]:\n",
      "Cell \u001B[0;32mIn[15], line 188\u001B[0m, in \u001B[0;36mModelTrainer.first_train\u001B[0;34m(self, epochs)\u001B[0m\n\u001B[1;32m    185\u001B[0m \u001B[38;5;250m\u001B[39m\u001B[38;5;124;03m''' Performs the first model training '''\u001B[39;00m\n\u001B[1;32m    187\u001B[0m \u001B[38;5;66;03m# Training and background acquisition\u001B[39;00m\n\u001B[0;32m--> 188\u001B[0m history \u001B[38;5;241m=\u001B[39m \u001B[38;5;28;43mself\u001B[39;49m\u001B[38;5;241;43m.\u001B[39;49m\u001B[43m_train_model\u001B[49m\u001B[43m(\u001B[49m\u001B[43mepochs\u001B[49m\u001B[43m)\u001B[49m\n\u001B[1;32m    190\u001B[0m \u001B[38;5;66;03m# Number of epochs passed\u001B[39;00m\n\u001B[1;32m    191\u001B[0m num_epochs \u001B[38;5;241m=\u001B[39m \u001B[38;5;28mlen\u001B[39m(history\u001B[38;5;241m.\u001B[39mhistory[\u001B[38;5;124m'\u001B[39m\u001B[38;5;124mloss\u001B[39m\u001B[38;5;124m'\u001B[39m])\n",
      "Cell \u001B[0;32mIn[15], line 121\u001B[0m, in \u001B[0;36mModelTrainer._train_model\u001B[0;34m(self, epochs)\u001B[0m\n\u001B[1;32m    119\u001B[0m \u001B[38;5;28;01mdef\u001B[39;00m \u001B[38;5;21m_train_model\u001B[39m(\u001B[38;5;28mself\u001B[39m, epochs):\n\u001B[1;32m    120\u001B[0m \u001B[38;5;250m    \u001B[39m\u001B[38;5;124;03m''' Model training '''\u001B[39;00m\n\u001B[0;32m--> 121\u001B[0m     \u001B[38;5;28;01mreturn\u001B[39;00m \u001B[38;5;28;43mself\u001B[39;49m\u001B[38;5;241;43m.\u001B[39;49m\u001B[43mmodel\u001B[49m\u001B[38;5;241;43m.\u001B[39;49m\u001B[43mfit\u001B[49m\u001B[43m \u001B[49m\u001B[43m(\u001B[49m\n\u001B[1;32m    122\u001B[0m \u001B[43m        \u001B[49m\u001B[38;5;28;43mself\u001B[39;49m\u001B[38;5;241;43m.\u001B[39;49m\u001B[43mtrain_data_gen\u001B[49m\u001B[43m,\u001B[49m\n\u001B[1;32m    123\u001B[0m \u001B[43m        \u001B[49m\u001B[43mvalidation_data\u001B[49m\u001B[43m \u001B[49m\u001B[38;5;241;43m=\u001B[39;49m\u001B[43m \u001B[49m\u001B[38;5;28;43mself\u001B[39;49m\u001B[38;5;241;43m.\u001B[39;49m\u001B[43mtest_data_gen\u001B[49m\u001B[43m,\u001B[49m\n\u001B[1;32m    124\u001B[0m \u001B[43m        \u001B[49m\u001B[43mepochs\u001B[49m\u001B[43m \u001B[49m\u001B[38;5;241;43m=\u001B[39;49m\u001B[43m \u001B[49m\u001B[43mepochs\u001B[49m\u001B[43m,\u001B[49m\n\u001B[1;32m    125\u001B[0m \u001B[43m        \u001B[49m\u001B[43mcallbacks\u001B[49m\u001B[38;5;241;43m=\u001B[39;49m\u001B[43m[\u001B[49m\u001B[38;5;28;43mself\u001B[39;49m\u001B[38;5;241;43m.\u001B[39;49m\u001B[43mearly_stopping\u001B[49m\u001B[43m,\u001B[49m\u001B[43m \u001B[49m\u001B[38;5;28;43mself\u001B[39;49m\u001B[38;5;241;43m.\u001B[39;49m\u001B[43mcheckpointer\u001B[49m\u001B[43m]\u001B[49m\n\u001B[1;32m    126\u001B[0m \u001B[43m    \u001B[49m\u001B[43m)\u001B[49m\n",
      "File \u001B[0;32m~/miniconda3/envs/csci1470/lib/python3.10/site-packages/keras/src/utils/traceback_utils.py:65\u001B[0m, in \u001B[0;36mfilter_traceback.<locals>.error_handler\u001B[0;34m(*args, **kwargs)\u001B[0m\n\u001B[1;32m     63\u001B[0m filtered_tb \u001B[38;5;241m=\u001B[39m \u001B[38;5;28;01mNone\u001B[39;00m\n\u001B[1;32m     64\u001B[0m \u001B[38;5;28;01mtry\u001B[39;00m:\n\u001B[0;32m---> 65\u001B[0m     \u001B[38;5;28;01mreturn\u001B[39;00m \u001B[43mfn\u001B[49m\u001B[43m(\u001B[49m\u001B[38;5;241;43m*\u001B[39;49m\u001B[43margs\u001B[49m\u001B[43m,\u001B[49m\u001B[43m \u001B[49m\u001B[38;5;241;43m*\u001B[39;49m\u001B[38;5;241;43m*\u001B[39;49m\u001B[43mkwargs\u001B[49m\u001B[43m)\u001B[49m\n\u001B[1;32m     66\u001B[0m \u001B[38;5;28;01mexcept\u001B[39;00m \u001B[38;5;167;01mException\u001B[39;00m \u001B[38;5;28;01mas\u001B[39;00m e:\n\u001B[1;32m     67\u001B[0m     filtered_tb \u001B[38;5;241m=\u001B[39m _process_traceback_frames(e\u001B[38;5;241m.\u001B[39m__traceback__)\n",
      "File \u001B[0;32m~/miniconda3/envs/csci1470/lib/python3.10/site-packages/keras/src/engine/training.py:1807\u001B[0m, in \u001B[0;36mModel.fit\u001B[0;34m(self, x, y, batch_size, epochs, verbose, callbacks, validation_split, validation_data, shuffle, class_weight, sample_weight, initial_epoch, steps_per_epoch, validation_steps, validation_batch_size, validation_freq, max_queue_size, workers, use_multiprocessing)\u001B[0m\n\u001B[1;32m   1799\u001B[0m \u001B[38;5;28;01mwith\u001B[39;00m tf\u001B[38;5;241m.\u001B[39mprofiler\u001B[38;5;241m.\u001B[39mexperimental\u001B[38;5;241m.\u001B[39mTrace(\n\u001B[1;32m   1800\u001B[0m     \u001B[38;5;124m\"\u001B[39m\u001B[38;5;124mtrain\u001B[39m\u001B[38;5;124m\"\u001B[39m,\n\u001B[1;32m   1801\u001B[0m     epoch_num\u001B[38;5;241m=\u001B[39mepoch,\n\u001B[0;32m   (...)\u001B[0m\n\u001B[1;32m   1804\u001B[0m     _r\u001B[38;5;241m=\u001B[39m\u001B[38;5;241m1\u001B[39m,\n\u001B[1;32m   1805\u001B[0m ):\n\u001B[1;32m   1806\u001B[0m     callbacks\u001B[38;5;241m.\u001B[39mon_train_batch_begin(step)\n\u001B[0;32m-> 1807\u001B[0m     tmp_logs \u001B[38;5;241m=\u001B[39m \u001B[38;5;28;43mself\u001B[39;49m\u001B[38;5;241;43m.\u001B[39;49m\u001B[43mtrain_function\u001B[49m\u001B[43m(\u001B[49m\u001B[43miterator\u001B[49m\u001B[43m)\u001B[49m\n\u001B[1;32m   1808\u001B[0m     \u001B[38;5;28;01mif\u001B[39;00m data_handler\u001B[38;5;241m.\u001B[39mshould_sync:\n\u001B[1;32m   1809\u001B[0m         context\u001B[38;5;241m.\u001B[39masync_wait()\n",
      "File \u001B[0;32m~/miniconda3/envs/csci1470/lib/python3.10/site-packages/tensorflow/python/util/traceback_utils.py:150\u001B[0m, in \u001B[0;36mfilter_traceback.<locals>.error_handler\u001B[0;34m(*args, **kwargs)\u001B[0m\n\u001B[1;32m    148\u001B[0m filtered_tb \u001B[38;5;241m=\u001B[39m \u001B[38;5;28;01mNone\u001B[39;00m\n\u001B[1;32m    149\u001B[0m \u001B[38;5;28;01mtry\u001B[39;00m:\n\u001B[0;32m--> 150\u001B[0m   \u001B[38;5;28;01mreturn\u001B[39;00m \u001B[43mfn\u001B[49m\u001B[43m(\u001B[49m\u001B[38;5;241;43m*\u001B[39;49m\u001B[43margs\u001B[49m\u001B[43m,\u001B[49m\u001B[43m \u001B[49m\u001B[38;5;241;43m*\u001B[39;49m\u001B[38;5;241;43m*\u001B[39;49m\u001B[43mkwargs\u001B[49m\u001B[43m)\u001B[49m\n\u001B[1;32m    151\u001B[0m \u001B[38;5;28;01mexcept\u001B[39;00m \u001B[38;5;167;01mException\u001B[39;00m \u001B[38;5;28;01mas\u001B[39;00m e:\n\u001B[1;32m    152\u001B[0m   filtered_tb \u001B[38;5;241m=\u001B[39m _process_traceback_frames(e\u001B[38;5;241m.\u001B[39m__traceback__)\n",
      "File \u001B[0;32m~/miniconda3/envs/csci1470/lib/python3.10/site-packages/tensorflow/python/eager/polymorphic_function/polymorphic_function.py:832\u001B[0m, in \u001B[0;36mFunction.__call__\u001B[0;34m(self, *args, **kwds)\u001B[0m\n\u001B[1;32m    829\u001B[0m compiler \u001B[38;5;241m=\u001B[39m \u001B[38;5;124m\"\u001B[39m\u001B[38;5;124mxla\u001B[39m\u001B[38;5;124m\"\u001B[39m \u001B[38;5;28;01mif\u001B[39;00m \u001B[38;5;28mself\u001B[39m\u001B[38;5;241m.\u001B[39m_jit_compile \u001B[38;5;28;01melse\u001B[39;00m \u001B[38;5;124m\"\u001B[39m\u001B[38;5;124mnonXla\u001B[39m\u001B[38;5;124m\"\u001B[39m\n\u001B[1;32m    831\u001B[0m \u001B[38;5;28;01mwith\u001B[39;00m OptionalXlaContext(\u001B[38;5;28mself\u001B[39m\u001B[38;5;241m.\u001B[39m_jit_compile):\n\u001B[0;32m--> 832\u001B[0m   result \u001B[38;5;241m=\u001B[39m \u001B[38;5;28;43mself\u001B[39;49m\u001B[38;5;241;43m.\u001B[39;49m\u001B[43m_call\u001B[49m\u001B[43m(\u001B[49m\u001B[38;5;241;43m*\u001B[39;49m\u001B[43margs\u001B[49m\u001B[43m,\u001B[49m\u001B[43m \u001B[49m\u001B[38;5;241;43m*\u001B[39;49m\u001B[38;5;241;43m*\u001B[39;49m\u001B[43mkwds\u001B[49m\u001B[43m)\u001B[49m\n\u001B[1;32m    834\u001B[0m new_tracing_count \u001B[38;5;241m=\u001B[39m \u001B[38;5;28mself\u001B[39m\u001B[38;5;241m.\u001B[39mexperimental_get_tracing_count()\n\u001B[1;32m    835\u001B[0m without_tracing \u001B[38;5;241m=\u001B[39m (tracing_count \u001B[38;5;241m==\u001B[39m new_tracing_count)\n",
      "File \u001B[0;32m~/miniconda3/envs/csci1470/lib/python3.10/site-packages/tensorflow/python/eager/polymorphic_function/polymorphic_function.py:868\u001B[0m, in \u001B[0;36mFunction._call\u001B[0;34m(self, *args, **kwds)\u001B[0m\n\u001B[1;32m    865\u001B[0m   \u001B[38;5;28mself\u001B[39m\u001B[38;5;241m.\u001B[39m_lock\u001B[38;5;241m.\u001B[39mrelease()\n\u001B[1;32m    866\u001B[0m   \u001B[38;5;66;03m# In this case we have created variables on the first call, so we run the\u001B[39;00m\n\u001B[1;32m    867\u001B[0m   \u001B[38;5;66;03m# defunned version which is guaranteed to never create variables.\u001B[39;00m\n\u001B[0;32m--> 868\u001B[0m   \u001B[38;5;28;01mreturn\u001B[39;00m \u001B[43mtracing_compilation\u001B[49m\u001B[38;5;241;43m.\u001B[39;49m\u001B[43mcall_function\u001B[49m\u001B[43m(\u001B[49m\n\u001B[1;32m    869\u001B[0m \u001B[43m      \u001B[49m\u001B[43margs\u001B[49m\u001B[43m,\u001B[49m\u001B[43m \u001B[49m\u001B[43mkwds\u001B[49m\u001B[43m,\u001B[49m\u001B[43m \u001B[49m\u001B[38;5;28;43mself\u001B[39;49m\u001B[38;5;241;43m.\u001B[39;49m\u001B[43m_no_variable_creation_config\u001B[49m\n\u001B[1;32m    870\u001B[0m \u001B[43m  \u001B[49m\u001B[43m)\u001B[49m\n\u001B[1;32m    871\u001B[0m \u001B[38;5;28;01melif\u001B[39;00m \u001B[38;5;28mself\u001B[39m\u001B[38;5;241m.\u001B[39m_variable_creation_config \u001B[38;5;129;01mis\u001B[39;00m \u001B[38;5;129;01mnot\u001B[39;00m \u001B[38;5;28;01mNone\u001B[39;00m:\n\u001B[1;32m    872\u001B[0m   \u001B[38;5;66;03m# Release the lock early so that multiple threads can perform the call\u001B[39;00m\n\u001B[1;32m    873\u001B[0m   \u001B[38;5;66;03m# in parallel.\u001B[39;00m\n\u001B[1;32m    874\u001B[0m   \u001B[38;5;28mself\u001B[39m\u001B[38;5;241m.\u001B[39m_lock\u001B[38;5;241m.\u001B[39mrelease()\n",
      "File \u001B[0;32m~/miniconda3/envs/csci1470/lib/python3.10/site-packages/tensorflow/python/eager/polymorphic_function/tracing_compilation.py:139\u001B[0m, in \u001B[0;36mcall_function\u001B[0;34m(args, kwargs, tracing_options)\u001B[0m\n\u001B[1;32m    137\u001B[0m bound_args \u001B[38;5;241m=\u001B[39m function\u001B[38;5;241m.\u001B[39mfunction_type\u001B[38;5;241m.\u001B[39mbind(\u001B[38;5;241m*\u001B[39margs, \u001B[38;5;241m*\u001B[39m\u001B[38;5;241m*\u001B[39mkwargs)\n\u001B[1;32m    138\u001B[0m flat_inputs \u001B[38;5;241m=\u001B[39m function\u001B[38;5;241m.\u001B[39mfunction_type\u001B[38;5;241m.\u001B[39munpack_inputs(bound_args)\n\u001B[0;32m--> 139\u001B[0m \u001B[38;5;28;01mreturn\u001B[39;00m \u001B[43mfunction\u001B[49m\u001B[38;5;241;43m.\u001B[39;49m\u001B[43m_call_flat\u001B[49m\u001B[43m(\u001B[49m\u001B[43m  \u001B[49m\u001B[38;5;66;43;03m# pylint: disable=protected-access\u001B[39;49;00m\n\u001B[1;32m    140\u001B[0m \u001B[43m    \u001B[49m\u001B[43mflat_inputs\u001B[49m\u001B[43m,\u001B[49m\u001B[43m \u001B[49m\u001B[43mcaptured_inputs\u001B[49m\u001B[38;5;241;43m=\u001B[39;49m\u001B[43mfunction\u001B[49m\u001B[38;5;241;43m.\u001B[39;49m\u001B[43mcaptured_inputs\u001B[49m\n\u001B[1;32m    141\u001B[0m \u001B[43m\u001B[49m\u001B[43m)\u001B[49m\n",
      "File \u001B[0;32m~/miniconda3/envs/csci1470/lib/python3.10/site-packages/tensorflow/python/eager/polymorphic_function/concrete_function.py:1323\u001B[0m, in \u001B[0;36mConcreteFunction._call_flat\u001B[0;34m(self, tensor_inputs, captured_inputs)\u001B[0m\n\u001B[1;32m   1319\u001B[0m possible_gradient_type \u001B[38;5;241m=\u001B[39m gradients_util\u001B[38;5;241m.\u001B[39mPossibleTapeGradientTypes(args)\n\u001B[1;32m   1320\u001B[0m \u001B[38;5;28;01mif\u001B[39;00m (possible_gradient_type \u001B[38;5;241m==\u001B[39m gradients_util\u001B[38;5;241m.\u001B[39mPOSSIBLE_GRADIENT_TYPES_NONE\n\u001B[1;32m   1321\u001B[0m     \u001B[38;5;129;01mand\u001B[39;00m executing_eagerly):\n\u001B[1;32m   1322\u001B[0m   \u001B[38;5;66;03m# No tape is watching; skip to running the function.\u001B[39;00m\n\u001B[0;32m-> 1323\u001B[0m   \u001B[38;5;28;01mreturn\u001B[39;00m \u001B[38;5;28;43mself\u001B[39;49m\u001B[38;5;241;43m.\u001B[39;49m\u001B[43m_inference_function\u001B[49m\u001B[38;5;241;43m.\u001B[39;49m\u001B[43mcall_preflattened\u001B[49m\u001B[43m(\u001B[49m\u001B[43margs\u001B[49m\u001B[43m)\u001B[49m\n\u001B[1;32m   1324\u001B[0m forward_backward \u001B[38;5;241m=\u001B[39m \u001B[38;5;28mself\u001B[39m\u001B[38;5;241m.\u001B[39m_select_forward_and_backward_functions(\n\u001B[1;32m   1325\u001B[0m     args,\n\u001B[1;32m   1326\u001B[0m     possible_gradient_type,\n\u001B[1;32m   1327\u001B[0m     executing_eagerly)\n\u001B[1;32m   1328\u001B[0m forward_function, args_with_tangents \u001B[38;5;241m=\u001B[39m forward_backward\u001B[38;5;241m.\u001B[39mforward()\n",
      "File \u001B[0;32m~/miniconda3/envs/csci1470/lib/python3.10/site-packages/tensorflow/python/eager/polymorphic_function/atomic_function.py:216\u001B[0m, in \u001B[0;36mAtomicFunction.call_preflattened\u001B[0;34m(self, args)\u001B[0m\n\u001B[1;32m    214\u001B[0m \u001B[38;5;28;01mdef\u001B[39;00m \u001B[38;5;21mcall_preflattened\u001B[39m(\u001B[38;5;28mself\u001B[39m, args: Sequence[core\u001B[38;5;241m.\u001B[39mTensor]) \u001B[38;5;241m-\u001B[39m\u001B[38;5;241m>\u001B[39m Any:\n\u001B[1;32m    215\u001B[0m \u001B[38;5;250m  \u001B[39m\u001B[38;5;124;03m\"\"\"Calls with flattened tensor inputs and returns the structured output.\"\"\"\u001B[39;00m\n\u001B[0;32m--> 216\u001B[0m   flat_outputs \u001B[38;5;241m=\u001B[39m \u001B[38;5;28;43mself\u001B[39;49m\u001B[38;5;241;43m.\u001B[39;49m\u001B[43mcall_flat\u001B[49m\u001B[43m(\u001B[49m\u001B[38;5;241;43m*\u001B[39;49m\u001B[43margs\u001B[49m\u001B[43m)\u001B[49m\n\u001B[1;32m    217\u001B[0m   \u001B[38;5;28;01mreturn\u001B[39;00m \u001B[38;5;28mself\u001B[39m\u001B[38;5;241m.\u001B[39mfunction_type\u001B[38;5;241m.\u001B[39mpack_output(flat_outputs)\n",
      "File \u001B[0;32m~/miniconda3/envs/csci1470/lib/python3.10/site-packages/tensorflow/python/eager/polymorphic_function/atomic_function.py:251\u001B[0m, in \u001B[0;36mAtomicFunction.call_flat\u001B[0;34m(self, *args)\u001B[0m\n\u001B[1;32m    249\u001B[0m \u001B[38;5;28;01mwith\u001B[39;00m record\u001B[38;5;241m.\u001B[39mstop_recording():\n\u001B[1;32m    250\u001B[0m   \u001B[38;5;28;01mif\u001B[39;00m \u001B[38;5;28mself\u001B[39m\u001B[38;5;241m.\u001B[39m_bound_context\u001B[38;5;241m.\u001B[39mexecuting_eagerly():\n\u001B[0;32m--> 251\u001B[0m     outputs \u001B[38;5;241m=\u001B[39m \u001B[38;5;28;43mself\u001B[39;49m\u001B[38;5;241;43m.\u001B[39;49m\u001B[43m_bound_context\u001B[49m\u001B[38;5;241;43m.\u001B[39;49m\u001B[43mcall_function\u001B[49m\u001B[43m(\u001B[49m\n\u001B[1;32m    252\u001B[0m \u001B[43m        \u001B[49m\u001B[38;5;28;43mself\u001B[39;49m\u001B[38;5;241;43m.\u001B[39;49m\u001B[43mname\u001B[49m\u001B[43m,\u001B[49m\n\u001B[1;32m    253\u001B[0m \u001B[43m        \u001B[49m\u001B[38;5;28;43mlist\u001B[39;49m\u001B[43m(\u001B[49m\u001B[43margs\u001B[49m\u001B[43m)\u001B[49m\u001B[43m,\u001B[49m\n\u001B[1;32m    254\u001B[0m \u001B[43m        \u001B[49m\u001B[38;5;28;43mlen\u001B[39;49m\u001B[43m(\u001B[49m\u001B[38;5;28;43mself\u001B[39;49m\u001B[38;5;241;43m.\u001B[39;49m\u001B[43mfunction_type\u001B[49m\u001B[38;5;241;43m.\u001B[39;49m\u001B[43mflat_outputs\u001B[49m\u001B[43m)\u001B[49m\u001B[43m,\u001B[49m\n\u001B[1;32m    255\u001B[0m \u001B[43m    \u001B[49m\u001B[43m)\u001B[49m\n\u001B[1;32m    256\u001B[0m   \u001B[38;5;28;01melse\u001B[39;00m:\n\u001B[1;32m    257\u001B[0m     outputs \u001B[38;5;241m=\u001B[39m make_call_op_in_graph(\n\u001B[1;32m    258\u001B[0m         \u001B[38;5;28mself\u001B[39m,\n\u001B[1;32m    259\u001B[0m         \u001B[38;5;28mlist\u001B[39m(args),\n\u001B[1;32m    260\u001B[0m         \u001B[38;5;28mself\u001B[39m\u001B[38;5;241m.\u001B[39m_bound_context\u001B[38;5;241m.\u001B[39mfunction_call_options\u001B[38;5;241m.\u001B[39mas_attrs(),\n\u001B[1;32m    261\u001B[0m     )\n",
      "File \u001B[0;32m~/miniconda3/envs/csci1470/lib/python3.10/site-packages/tensorflow/python/eager/context.py:1486\u001B[0m, in \u001B[0;36mContext.call_function\u001B[0;34m(self, name, tensor_inputs, num_outputs)\u001B[0m\n\u001B[1;32m   1484\u001B[0m cancellation_context \u001B[38;5;241m=\u001B[39m cancellation\u001B[38;5;241m.\u001B[39mcontext()\n\u001B[1;32m   1485\u001B[0m \u001B[38;5;28;01mif\u001B[39;00m cancellation_context \u001B[38;5;129;01mis\u001B[39;00m \u001B[38;5;28;01mNone\u001B[39;00m:\n\u001B[0;32m-> 1486\u001B[0m   outputs \u001B[38;5;241m=\u001B[39m \u001B[43mexecute\u001B[49m\u001B[38;5;241;43m.\u001B[39;49m\u001B[43mexecute\u001B[49m\u001B[43m(\u001B[49m\n\u001B[1;32m   1487\u001B[0m \u001B[43m      \u001B[49m\u001B[43mname\u001B[49m\u001B[38;5;241;43m.\u001B[39;49m\u001B[43mdecode\u001B[49m\u001B[43m(\u001B[49m\u001B[38;5;124;43m\"\u001B[39;49m\u001B[38;5;124;43mutf-8\u001B[39;49m\u001B[38;5;124;43m\"\u001B[39;49m\u001B[43m)\u001B[49m\u001B[43m,\u001B[49m\n\u001B[1;32m   1488\u001B[0m \u001B[43m      \u001B[49m\u001B[43mnum_outputs\u001B[49m\u001B[38;5;241;43m=\u001B[39;49m\u001B[43mnum_outputs\u001B[49m\u001B[43m,\u001B[49m\n\u001B[1;32m   1489\u001B[0m \u001B[43m      \u001B[49m\u001B[43minputs\u001B[49m\u001B[38;5;241;43m=\u001B[39;49m\u001B[43mtensor_inputs\u001B[49m\u001B[43m,\u001B[49m\n\u001B[1;32m   1490\u001B[0m \u001B[43m      \u001B[49m\u001B[43mattrs\u001B[49m\u001B[38;5;241;43m=\u001B[39;49m\u001B[43mattrs\u001B[49m\u001B[43m,\u001B[49m\n\u001B[1;32m   1491\u001B[0m \u001B[43m      \u001B[49m\u001B[43mctx\u001B[49m\u001B[38;5;241;43m=\u001B[39;49m\u001B[38;5;28;43mself\u001B[39;49m\u001B[43m,\u001B[49m\n\u001B[1;32m   1492\u001B[0m \u001B[43m  \u001B[49m\u001B[43m)\u001B[49m\n\u001B[1;32m   1493\u001B[0m \u001B[38;5;28;01melse\u001B[39;00m:\n\u001B[1;32m   1494\u001B[0m   outputs \u001B[38;5;241m=\u001B[39m execute\u001B[38;5;241m.\u001B[39mexecute_with_cancellation(\n\u001B[1;32m   1495\u001B[0m       name\u001B[38;5;241m.\u001B[39mdecode(\u001B[38;5;124m\"\u001B[39m\u001B[38;5;124mutf-8\u001B[39m\u001B[38;5;124m\"\u001B[39m),\n\u001B[1;32m   1496\u001B[0m       num_outputs\u001B[38;5;241m=\u001B[39mnum_outputs,\n\u001B[0;32m   (...)\u001B[0m\n\u001B[1;32m   1500\u001B[0m       cancellation_manager\u001B[38;5;241m=\u001B[39mcancellation_context,\n\u001B[1;32m   1501\u001B[0m   )\n",
      "File \u001B[0;32m~/miniconda3/envs/csci1470/lib/python3.10/site-packages/tensorflow/python/eager/execute.py:53\u001B[0m, in \u001B[0;36mquick_execute\u001B[0;34m(op_name, num_outputs, inputs, attrs, ctx, name)\u001B[0m\n\u001B[1;32m     51\u001B[0m \u001B[38;5;28;01mtry\u001B[39;00m:\n\u001B[1;32m     52\u001B[0m   ctx\u001B[38;5;241m.\u001B[39mensure_initialized()\n\u001B[0;32m---> 53\u001B[0m   tensors \u001B[38;5;241m=\u001B[39m \u001B[43mpywrap_tfe\u001B[49m\u001B[38;5;241;43m.\u001B[39;49m\u001B[43mTFE_Py_Execute\u001B[49m\u001B[43m(\u001B[49m\u001B[43mctx\u001B[49m\u001B[38;5;241;43m.\u001B[39;49m\u001B[43m_handle\u001B[49m\u001B[43m,\u001B[49m\u001B[43m \u001B[49m\u001B[43mdevice_name\u001B[49m\u001B[43m,\u001B[49m\u001B[43m \u001B[49m\u001B[43mop_name\u001B[49m\u001B[43m,\u001B[49m\n\u001B[1;32m     54\u001B[0m \u001B[43m                                      \u001B[49m\u001B[43minputs\u001B[49m\u001B[43m,\u001B[49m\u001B[43m \u001B[49m\u001B[43mattrs\u001B[49m\u001B[43m,\u001B[49m\u001B[43m \u001B[49m\u001B[43mnum_outputs\u001B[49m\u001B[43m)\u001B[49m\n\u001B[1;32m     55\u001B[0m \u001B[38;5;28;01mexcept\u001B[39;00m core\u001B[38;5;241m.\u001B[39m_NotOkStatusException \u001B[38;5;28;01mas\u001B[39;00m e:\n\u001B[1;32m     56\u001B[0m   \u001B[38;5;28;01mif\u001B[39;00m name \u001B[38;5;129;01mis\u001B[39;00m \u001B[38;5;129;01mnot\u001B[39;00m \u001B[38;5;28;01mNone\u001B[39;00m:\n",
      "\u001B[0;31mKeyboardInterrupt\u001B[0m: "
     ]
    }
   ],
   "execution_count": 19
  },
  {
   "cell_type": "code",
   "metadata": {
    "colab": {
     "base_uri": "https://localhost:8080/"
    },
    "executionInfo": {
     "elapsed": 6836,
     "status": "ok",
     "timestamp": 1688605605605,
     "user": {
      "displayName": "Joao Lucas Rodrigues Constantino",
      "userId": "10555694485099463605"
     },
     "user_tz": 180
    },
    "id": "5Vbx8Ztyie81",
    "outputId": "f937552f-f66f-4316-a543-ec07612a98be"
   },
   "source": [
    "# Teste\n",
    "results[RESNET50] = resnet50_model.evaluate(test_data_generator)"
   ],
   "outputs": [],
   "execution_count": null
  },
  {
   "cell_type": "code",
   "metadata": {
    "colab": {
     "base_uri": "https://localhost:8080/",
     "height": 406
    },
    "executionInfo": {
     "elapsed": 26,
     "status": "ok",
     "timestamp": 1688605605606,
     "user": {
      "displayName": "Joao Lucas Rodrigues Constantino",
      "userId": "10555694485099463605"
     },
     "user_tz": 180
    },
    "id": "geiRPyT4im3J",
    "outputId": "bda45c1b-def3-4960-ae39-5dd65e6dc334"
   },
   "source": [
    "# Plota uma solução encontrada\n",
    "display_prediction_on_sample_image(resnet50_model, test_data_generator, -1)"
   ],
   "outputs": [],
   "execution_count": null
  },
  {
   "cell_type": "code",
   "metadata": {
    "executionInfo": {
     "elapsed": 603,
     "status": "ok",
     "timestamp": 1688603270786,
     "user": {
      "displayName": "Joao Lucas Rodrigues Constantino",
      "userId": "10555694485099463605"
     },
     "user_tz": 180
    },
    "id": "3k2ZVTJwitv9"
   },
   "source": [
    "# Salvamento definitivo do modelo\n",
    "save_model(resnet50_model, model_paths[RESNET50])"
   ],
   "outputs": [],
   "execution_count": null
  },
  {
   "attachments": {},
   "cell_type": "markdown",
   "metadata": {
    "id": "BI0oJj9xixQv"
   },
   "source": [
    "## 5.4. InceptionV3"
   ]
  },
  {
   "cell_type": "code",
   "metadata": {
    "executionInfo": {
     "elapsed": 4697,
     "status": "ok",
     "timestamp": 1688606639147,
     "user": {
      "displayName": "Joao Lucas Rodrigues Constantino",
      "userId": "10555694485099463605"
     },
     "user_tz": 180
    },
    "id": "_0diF7qgiw5O"
   },
   "source": [
    "# Obtenção do modelo\n",
    "base_model = InceptionV3(input_tensor=input_tensor, weights='imagenet', include_top=False)\n",
    "inceptionv3_model = get_detector_model(base_model)\n",
    "\n",
    "# Modificação dos geradores de dados\n",
    "train_data_generator.map = inception_preprocess_input\n",
    "test_data_generator.map = inception_preprocess_input\n",
    "val_data_generator.map = inception_preprocess_input\n",
    "\n",
    "# Para controle de época\n",
    "early_stopping = get_early_stopping(patience=16)\n",
    "checkpointer = get_checkpointer(\"xception\")\n",
    "\n",
    "# Classe de treinamento\n",
    "trainer = ModelTrainer(\n",
    "    inceptionv3_model,\n",
    "    train_data_generator,\n",
    "    val_data_generator,\n",
    "    early_stopping,\n",
    "    checkpointer\n",
    ")"
   ],
   "outputs": [],
   "execution_count": null
  },
  {
   "cell_type": "code",
   "metadata": {
    "colab": {
     "base_uri": "https://localhost:8080/",
     "height": 1000
    },
    "executionInfo": {
     "elapsed": 1808491,
     "status": "ok",
     "timestamp": 1688608447627,
     "user": {
      "displayName": "Joao Lucas Rodrigues Constantino",
      "userId": "10555694485099463605"
     },
     "user_tz": 180
    },
    "id": "fMpfpvkSm-Xj",
    "outputId": "a81a62f6-13e8-4095-f42f-f9d02eeae2e1"
   },
   "source": [
    "# Treino das camadas superiores :: menos épocas aqui\n",
    "print(\"Primeiro treinamento\\n\")\n",
    "train_history = trainer.first_train(epochs=24)\n",
    "\n",
    "# Descongelamento das primeiras camadas\n",
    "for layer in inceptionv3_model.layers[:249]:\n",
    "   layer.trainable = False\n",
    "for layer in inceptionv3_model.layers[249:]:\n",
    "   layer.trainable = True\n",
    "\n",
    "# Treino definitivo :: mais épocas aqui\n",
    "print(\"\\n\\nSegundo treinamento\\n\")\n",
    "train_history = trainer.second_train(epochs=36)"
   ],
   "outputs": [],
   "execution_count": null
  },
  {
   "cell_type": "code",
   "metadata": {
    "colab": {
     "base_uri": "https://localhost:8080/"
    },
    "executionInfo": {
     "elapsed": 3553,
     "status": "ok",
     "timestamp": 1688608451161,
     "user": {
      "displayName": "Joao Lucas Rodrigues Constantino",
      "userId": "10555694485099463605"
     },
     "user_tz": 180
    },
    "id": "wHRr4tGHjAK1",
    "outputId": "5ad053d6-7f44-4854-eb3e-264f18361201"
   },
   "source": [
    "# Teste\n",
    "results[INCEPTIONV3] = inceptionv3_model.evaluate(test_data_generator)"
   ],
   "outputs": [],
   "execution_count": null
  },
  {
   "cell_type": "code",
   "metadata": {
    "colab": {
     "base_uri": "https://localhost:8080/",
     "height": 406
    },
    "executionInfo": {
     "elapsed": 1934,
     "status": "ok",
     "timestamp": 1688608453089,
     "user": {
      "displayName": "Joao Lucas Rodrigues Constantino",
      "userId": "10555694485099463605"
     },
     "user_tz": 180
    },
    "id": "1uN0yoVEjF04",
    "outputId": "931e62ef-eccf-49b7-d97e-283546ef4dbc"
   },
   "source": [
    "# Plota uma solução encontrada\n",
    "display_prediction_on_sample_image(inceptionv3_model, test_data_generator, -1)"
   ],
   "outputs": [],
   "execution_count": null
  },
  {
   "cell_type": "code",
   "metadata": {
    "executionInfo": {
     "elapsed": 2900,
     "status": "ok",
     "timestamp": 1688608455928,
     "user": {
      "displayName": "Joao Lucas Rodrigues Constantino",
      "userId": "10555694485099463605"
     },
     "user_tz": 180
    },
    "id": "1jLskplvjIAs"
   },
   "source": [
    "# Salvamento definitivo do modelo\n",
    "save_model(inceptionv3_model, model_paths[INCEPTIONV3])"
   ],
   "outputs": [],
   "execution_count": null
  }
 ],
 "metadata": {
  "accelerator": "GPU",
  "colab": {
   "authorship_tag": "ABX9TyNGWARedou7caO5vAXQXZg0",
   "gpuType": "T4",
   "provenance": []
  },
  "kernelspec": {
   "display_name": "Python 3 (ipykernel)",
   "name": "python3",
   "language": "python"
  },
  "language_info": {
   "codemirror_mode": {
    "name": "ipython",
    "version": 3
   },
   "file_extension": ".py",
   "mimetype": "text/x-python",
   "name": "python",
   "nbconvert_exporter": "python",
   "pygments_lexer": "ipython3",
   "version": "3.10.13"
  }
 },
 "nbformat": 4,
 "nbformat_minor": 0
}
